{
 "cells": [
  {
   "cell_type": "code",
   "execution_count": 1,
   "metadata": {},
   "outputs": [],
   "source": [
    "%load_ext autoreload\n",
    "%autoreload 2"
   ]
  },
  {
   "cell_type": "code",
   "execution_count": 2,
   "metadata": {},
   "outputs": [],
   "source": [
    "import quantstats as qs\n",
    "import pandas as pd\n",
    "import app_functions as af\n",
    "import plots as pl"
   ]
  },
  {
   "cell_type": "code",
   "execution_count": 4,
   "metadata": {},
   "outputs": [
    {
     "name": "stderr",
     "output_type": "stream",
     "text": [
      "2023-05-04 10:59:36.465 \n",
      "  \u001b[33m\u001b[1mWarning:\u001b[0m to view this Streamlit app on a browser, run it with the following\n",
      "  command:\n",
      "\n",
      "    streamlit run c:\\Users\\hugo.perezdealbeniz\\AppData\\Local\\miniconda3\\envs\\refinitiv\\lib\\site-packages\\ipykernel_launcher.py [ARGUMENTS]\n",
      "c:\\Users\\hugo.perezdealbeniz\\Documents\\GitHub\\ranking_DIP_european_equities\\app\\app_functions.py:129: UserWarning: No mask was provided.\n",
      "  warn(\"No mask was provided.\")\n",
      "c:\\Users\\hugo.perezdealbeniz\\Documents\\GitHub\\ranking_DIP_european_equities\\app\\app_functions.py:129: UserWarning: No mask was provided.\n",
      "  warn(\"No mask was provided.\")\n",
      "c:\\Users\\hugo.perezdealbeniz\\Documents\\GitHub\\ranking_DIP_european_equities\\app\\app_functions.py:129: UserWarning: No mask was provided.\n",
      "  warn(\"No mask was provided.\")\n",
      "c:\\Users\\hugo.perezdealbeniz\\Documents\\GitHub\\ranking_DIP_european_equities\\app\\app_functions.py:129: UserWarning: No mask was provided.\n",
      "  warn(\"No mask was provided.\")\n",
      "c:\\Users\\hugo.perezdealbeniz\\Documents\\GitHub\\ranking_DIP_european_equities\\app\\app_functions.py:129: UserWarning: No mask was provided.\n",
      "  warn(\"No mask was provided.\")\n",
      "c:\\Users\\hugo.perezdealbeniz\\Documents\\GitHub\\ranking_DIP_european_equities\\app\\app_functions.py:129: UserWarning: No mask was provided.\n",
      "  warn(\"No mask was provided.\")\n",
      "c:\\Users\\hugo.perezdealbeniz\\Documents\\GitHub\\ranking_DIP_european_equities\\app\\app_functions.py:129: UserWarning: No mask was provided.\n",
      "  warn(\"No mask was provided.\")\n",
      "c:\\Users\\hugo.perezdealbeniz\\Documents\\GitHub\\ranking_DIP_european_equities\\app\\app_functions.py:129: UserWarning: No mask was provided.\n",
      "  warn(\"No mask was provided.\")\n",
      "c:\\Users\\hugo.perezdealbeniz\\Documents\\GitHub\\ranking_DIP_european_equities\\app\\app_functions.py:129: UserWarning: No mask was provided.\n",
      "  warn(\"No mask was provided.\")\n",
      "c:\\Users\\hugo.perezdealbeniz\\Documents\\GitHub\\ranking_DIP_european_equities\\app\\app_functions.py:129: UserWarning: No mask was provided.\n",
      "  warn(\"No mask was provided.\")\n",
      "c:\\Users\\hugo.perezdealbeniz\\Documents\\GitHub\\ranking_DIP_european_equities\\app\\app_functions.py:129: UserWarning: No mask was provided.\n",
      "  warn(\"No mask was provided.\")\n",
      "c:\\Users\\hugo.perezdealbeniz\\Documents\\GitHub\\ranking_DIP_european_equities\\app\\app_functions.py:129: UserWarning: No mask was provided.\n",
      "  warn(\"No mask was provided.\")\n",
      "c:\\Users\\hugo.perezdealbeniz\\Documents\\GitHub\\ranking_DIP_european_equities\\app\\app_functions.py:129: UserWarning: No mask was provided.\n",
      "  warn(\"No mask was provided.\")\n",
      "c:\\Users\\hugo.perezdealbeniz\\Documents\\GitHub\\ranking_DIP_european_equities\\app\\app_functions.py:129: UserWarning: No mask was provided.\n",
      "  warn(\"No mask was provided.\")\n",
      "c:\\Users\\hugo.perezdealbeniz\\Documents\\GitHub\\ranking_DIP_european_equities\\app\\app_functions.py:129: UserWarning: No mask was provided.\n",
      "  warn(\"No mask was provided.\")\n",
      "c:\\Users\\hugo.perezdealbeniz\\Documents\\GitHub\\ranking_DIP_european_equities\\app\\app_functions.py:129: UserWarning: No mask was provided.\n",
      "  warn(\"No mask was provided.\")\n",
      "c:\\Users\\hugo.perezdealbeniz\\Documents\\GitHub\\ranking_DIP_european_equities\\app\\app_functions.py:129: UserWarning: No mask was provided.\n",
      "  warn(\"No mask was provided.\")\n"
     ]
    }
   ],
   "source": [
    "prices_csv_filepath = r'Z:\\Interés Departamental\\Model Portfolio\\Hugo\\Ranking DIP European Equities\\copia 12-04-2023\\data\\vertical_dowload_files\\PriceClose.csv'\n",
    "data_directory_filepath = r'Z:\\Interés Departamental\\Model Portfolio\\Hugo\\Ranking DIP European Equities\\copia 12-04-2023\\data\\vertical_dowload_files'\n",
    "min_stocks_per_date_ratio = 0.8\n",
    "min_total_dates_ratio = 0.8\n",
    "expected_stocks_per_date = 1\n",
    "mask = None\n",
    "prices_df = af.read_and_sort_data(fr'{prices_csv_filepath}')\n",
    "data_dict = af.filter_data(\n",
    "            fr'{data_directory_filepath}',min_stocks_per_date_ratio,min_total_dates_ratio,expected_stocks_per_date,mask)[0]"
   ]
  },
  {
   "cell_type": "code",
   "execution_count": 5,
   "metadata": {},
   "outputs": [
    {
     "data": {
      "text/plain": [
       "dict_keys(['EV', 'EVTOEBIT', 'EVTOEBITDA', 'EVTOOperatingCashFlow', 'EVToSales', 'PriceClose', 'PriceToBVPerShare', 'PriceToCFPerShare', 'PriceToSalesPerShare', 'PriceToTangBVPerShare', 'TotalDebtToEBITDA', 'TotalDebtToEV'])"
      ]
     },
     "execution_count": 5,
     "metadata": {},
     "output_type": "execute_result"
    }
   ],
   "source": [
    "data_dict.keys()"
   ]
  },
  {
   "cell_type": "code",
   "execution_count": 6,
   "metadata": {},
   "outputs": [
    {
     "name": "stdout",
     "output_type": "stream",
     "text": [
      "Failed to rank:\n",
      " []\n",
      "Failed to get returns for:\n",
      " []\n"
     ]
    }
   ],
   "source": [
    "df = data_dict['EV']\n",
    "ranked_df = af.rank_data(df,10,'high')\n",
    "rets_df = af.get_returns(ranked_df,prices_df,10,1,1)"
   ]
  },
  {
   "cell_type": "code",
   "execution_count": 10,
   "metadata": {},
   "outputs": [
    {
     "data": {
      "text/plain": [
       "equiponderado    0.415759\n",
       "decil_1          0.100210\n",
       "decil_2          0.238903\n",
       "decil_3          0.234189\n",
       "decil_4          0.216130\n",
       "decil_5          0.360323\n",
       "decil_6          0.431263\n",
       "decil_7          0.447964\n",
       "decil_8          0.578801\n",
       "decil_9          0.656441\n",
       "decil_10         0.632532\n",
       "dtype: float64"
      ]
     },
     "execution_count": 10,
     "metadata": {},
     "output_type": "execute_result"
    }
   ],
   "source": [
    "qs.stats.sharpe(rets_df,periods=12)"
   ]
  },
  {
   "cell_type": "code",
   "execution_count": 9,
   "metadata": {},
   "outputs": [
    {
     "data": {
      "application/vnd.plotly.v1+json": {
       "config": {
        "plotlyServerURL": "https://plot.ly"
       },
       "data": [
        {
         "alignmentgroup": "True",
         "hovertemplate": "variable=equiponderado<br>index=%{x}<br>value=%{y}<extra></extra>",
         "legendgroup": "equiponderado",
         "marker": {
          "color": "#000000",
          "pattern": {
           "shape": ""
          }
         },
         "name": "equiponderado",
         "offsetgroup": "equiponderado",
         "orientation": "v",
         "showlegend": true,
         "textposition": "auto",
         "type": "bar",
         "x": [
          "equiponderado",
          "decil_1",
          "decil_2",
          "decil_3",
          "decil_4",
          "decil_5",
          "decil_6",
          "decil_7",
          "decil_8",
          "decil_9",
          "decil_10"
         ],
         "xaxis": "x",
         "y": [
          0.4165513226761806,
          0,
          0,
          0,
          0,
          0,
          0,
          0,
          0,
          0,
          0
         ],
         "yaxis": "y"
        },
        {
         "alignmentgroup": "True",
         "hovertemplate": "variable=decil_1<br>index=%{x}<br>value=%{y}<extra></extra>",
         "legendgroup": "decil_1",
         "marker": {
          "color": "rgb(0,104,55)",
          "pattern": {
           "shape": ""
          }
         },
         "name": "decil_1",
         "offsetgroup": "decil_1",
         "orientation": "v",
         "showlegend": true,
         "textposition": "auto",
         "type": "bar",
         "x": [
          "equiponderado",
          "decil_1",
          "decil_2",
          "decil_3",
          "decil_4",
          "decil_5",
          "decil_6",
          "decil_7",
          "decil_8",
          "decil_9",
          "decil_10"
         ],
         "xaxis": "x",
         "y": [
          0,
          0.1004011175128022,
          0,
          0,
          0,
          0,
          0,
          0,
          0,
          0,
          0
         ],
         "yaxis": "y"
        },
        {
         "alignmentgroup": "True",
         "hovertemplate": "variable=decil_2<br>index=%{x}<br>value=%{y}<extra></extra>",
         "legendgroup": "decil_2",
         "marker": {
          "color": "rgb(26,152,80)",
          "pattern": {
           "shape": ""
          }
         },
         "name": "decil_2",
         "offsetgroup": "decil_2",
         "orientation": "v",
         "showlegend": true,
         "textposition": "auto",
         "type": "bar",
         "x": [
          "equiponderado",
          "decil_1",
          "decil_2",
          "decil_3",
          "decil_4",
          "decil_5",
          "decil_6",
          "decil_7",
          "decil_8",
          "decil_9",
          "decil_10"
         ],
         "xaxis": "x",
         "y": [
          0,
          0,
          0.23935849004675827,
          0,
          0,
          0,
          0,
          0,
          0,
          0,
          0
         ],
         "yaxis": "y"
        },
        {
         "alignmentgroup": "True",
         "hovertemplate": "variable=decil_3<br>index=%{x}<br>value=%{y}<extra></extra>",
         "legendgroup": "decil_3",
         "marker": {
          "color": "rgb(102,189,99)",
          "pattern": {
           "shape": ""
          }
         },
         "name": "decil_3",
         "offsetgroup": "decil_3",
         "orientation": "v",
         "showlegend": true,
         "textposition": "auto",
         "type": "bar",
         "x": [
          "equiponderado",
          "decil_1",
          "decil_2",
          "decil_3",
          "decil_4",
          "decil_5",
          "decil_6",
          "decil_7",
          "decil_8",
          "decil_9",
          "decil_10"
         ],
         "xaxis": "x",
         "y": [
          0,
          0,
          0,
          0.23463522540554166,
          0,
          0,
          0,
          0,
          0,
          0,
          0
         ],
         "yaxis": "y"
        },
        {
         "alignmentgroup": "True",
         "hovertemplate": "variable=decil_4<br>index=%{x}<br>value=%{y}<extra></extra>",
         "legendgroup": "decil_4",
         "marker": {
          "color": "rgb(166,217,106)",
          "pattern": {
           "shape": ""
          }
         },
         "name": "decil_4",
         "offsetgroup": "decil_4",
         "orientation": "v",
         "showlegend": true,
         "textposition": "auto",
         "type": "bar",
         "x": [
          "equiponderado",
          "decil_1",
          "decil_2",
          "decil_3",
          "decil_4",
          "decil_5",
          "decil_6",
          "decil_7",
          "decil_8",
          "decil_9",
          "decil_10"
         ],
         "xaxis": "x",
         "y": [
          0,
          0,
          0,
          0,
          0.2165424385242644,
          0,
          0,
          0,
          0,
          0,
          0
         ],
         "yaxis": "y"
        },
        {
         "alignmentgroup": "True",
         "hovertemplate": "variable=decil_5<br>index=%{x}<br>value=%{y}<extra></extra>",
         "legendgroup": "decil_5",
         "marker": {
          "color": "rgb(217,239,139)",
          "pattern": {
           "shape": ""
          }
         },
         "name": "decil_5",
         "offsetgroup": "decil_5",
         "orientation": "v",
         "showlegend": true,
         "textposition": "auto",
         "type": "bar",
         "x": [
          "equiponderado",
          "decil_1",
          "decil_2",
          "decil_3",
          "decil_4",
          "decil_5",
          "decil_6",
          "decil_7",
          "decil_8",
          "decil_9",
          "decil_10"
         ],
         "xaxis": "x",
         "y": [
          0,
          0,
          0,
          0,
          0,
          0.3610096458347201,
          0,
          0,
          0,
          0,
          0
         ],
         "yaxis": "y"
        },
        {
         "alignmentgroup": "True",
         "hovertemplate": "variable=decil_6<br>index=%{x}<br>value=%{y}<extra></extra>",
         "legendgroup": "decil_6",
         "marker": {
          "color": "rgb(255,255,191)",
          "pattern": {
           "shape": ""
          }
         },
         "name": "decil_6",
         "offsetgroup": "decil_6",
         "orientation": "v",
         "showlegend": true,
         "textposition": "auto",
         "type": "bar",
         "x": [
          "equiponderado",
          "decil_1",
          "decil_2",
          "decil_3",
          "decil_4",
          "decil_5",
          "decil_6",
          "decil_7",
          "decil_8",
          "decil_9",
          "decil_10"
         ],
         "xaxis": "x",
         "y": [
          0,
          0,
          0,
          0,
          0,
          0,
          0.43208541182943466,
          0,
          0,
          0,
          0
         ],
         "yaxis": "y"
        },
        {
         "alignmentgroup": "True",
         "hovertemplate": "variable=decil_7<br>index=%{x}<br>value=%{y}<extra></extra>",
         "legendgroup": "decil_7",
         "marker": {
          "color": "rgb(254,224,139)",
          "pattern": {
           "shape": ""
          }
         },
         "name": "decil_7",
         "offsetgroup": "decil_7",
         "orientation": "v",
         "showlegend": true,
         "textposition": "auto",
         "type": "bar",
         "x": [
          "equiponderado",
          "decil_1",
          "decil_2",
          "decil_3",
          "decil_4",
          "decil_5",
          "decil_6",
          "decil_7",
          "decil_8",
          "decil_9",
          "decil_10"
         ],
         "xaxis": "x",
         "y": [
          0,
          0,
          0,
          0,
          0,
          0,
          0,
          0.4488181101958791,
          0,
          0,
          0
         ],
         "yaxis": "y"
        },
        {
         "alignmentgroup": "True",
         "hovertemplate": "variable=decil_8<br>index=%{x}<br>value=%{y}<extra></extra>",
         "legendgroup": "decil_8",
         "marker": {
          "color": "rgb(253,174,97)",
          "pattern": {
           "shape": ""
          }
         },
         "name": "decil_8",
         "offsetgroup": "decil_8",
         "orientation": "v",
         "showlegend": true,
         "textposition": "auto",
         "type": "bar",
         "x": [
          "equiponderado",
          "decil_1",
          "decil_2",
          "decil_3",
          "decil_4",
          "decil_5",
          "decil_6",
          "decil_7",
          "decil_8",
          "decil_9",
          "decil_10"
         ],
         "xaxis": "x",
         "y": [
          0,
          0,
          0,
          0,
          0,
          0,
          0,
          0,
          0.5799046590458107,
          0,
          0
         ],
         "yaxis": "y"
        },
        {
         "alignmentgroup": "True",
         "hovertemplate": "variable=decil_9<br>index=%{x}<br>value=%{y}<extra></extra>",
         "legendgroup": "decil_9",
         "marker": {
          "color": "rgb(244,109,67)",
          "pattern": {
           "shape": ""
          }
         },
         "name": "decil_9",
         "offsetgroup": "decil_9",
         "orientation": "v",
         "showlegend": true,
         "textposition": "auto",
         "type": "bar",
         "x": [
          "equiponderado",
          "decil_1",
          "decil_2",
          "decil_3",
          "decil_4",
          "decil_5",
          "decil_6",
          "decil_7",
          "decil_8",
          "decil_9",
          "decil_10"
         ],
         "xaxis": "x",
         "y": [
          0,
          0,
          0,
          0,
          0,
          0,
          0,
          0,
          0,
          0.6576928942438653,
          0
         ],
         "yaxis": "y"
        },
        {
         "alignmentgroup": "True",
         "hovertemplate": "variable=decil_10<br>index=%{x}<br>value=%{y}<extra></extra>",
         "legendgroup": "decil_10",
         "marker": {
          "color": "rgb(215,48,39)",
          "pattern": {
           "shape": ""
          }
         },
         "name": "decil_10",
         "offsetgroup": "decil_10",
         "orientation": "v",
         "showlegend": true,
         "textposition": "auto",
         "type": "bar",
         "x": [
          "equiponderado",
          "decil_1",
          "decil_2",
          "decil_3",
          "decil_4",
          "decil_5",
          "decil_6",
          "decil_7",
          "decil_8",
          "decil_9",
          "decil_10"
         ],
         "xaxis": "x",
         "y": [
          0,
          0,
          0,
          0,
          0,
          0,
          0,
          0,
          0,
          0,
          0.6337382359254868
         ],
         "yaxis": "y"
        }
       ],
       "layout": {
        "barmode": "relative",
        "legend": {
         "title": {
          "text": "variable"
         },
         "tracegroupgap": 0
        },
        "margin": {
         "t": 60
        },
        "template": {
         "data": {
          "candlestick": [
           {
            "decreasing": {
             "line": {
              "color": "#000033"
             }
            },
            "increasing": {
             "line": {
              "color": "#000032"
             }
            },
            "type": "candlestick"
           }
          ],
          "contour": [
           {
            "colorscale": [
             [
              0,
              "#000011"
             ],
             [
              0.1111111111111111,
              "#000012"
             ],
             [
              0.2222222222222222,
              "#000013"
             ],
             [
              0.3333333333333333,
              "#000014"
             ],
             [
              0.4444444444444444,
              "#000015"
             ],
             [
              0.5555555555555556,
              "#000016"
             ],
             [
              0.6666666666666666,
              "#000017"
             ],
             [
              0.7777777777777778,
              "#000018"
             ],
             [
              0.8888888888888888,
              "#000019"
             ],
             [
              1,
              "#000020"
             ]
            ],
            "type": "contour"
           }
          ],
          "contourcarpet": [
           {
            "colorscale": [
             [
              0,
              "#000011"
             ],
             [
              0.1111111111111111,
              "#000012"
             ],
             [
              0.2222222222222222,
              "#000013"
             ],
             [
              0.3333333333333333,
              "#000014"
             ],
             [
              0.4444444444444444,
              "#000015"
             ],
             [
              0.5555555555555556,
              "#000016"
             ],
             [
              0.6666666666666666,
              "#000017"
             ],
             [
              0.7777777777777778,
              "#000018"
             ],
             [
              0.8888888888888888,
              "#000019"
             ],
             [
              1,
              "#000020"
             ]
            ],
            "type": "contourcarpet"
           }
          ],
          "heatmap": [
           {
            "colorscale": [
             [
              0,
              "#000011"
             ],
             [
              0.1111111111111111,
              "#000012"
             ],
             [
              0.2222222222222222,
              "#000013"
             ],
             [
              0.3333333333333333,
              "#000014"
             ],
             [
              0.4444444444444444,
              "#000015"
             ],
             [
              0.5555555555555556,
              "#000016"
             ],
             [
              0.6666666666666666,
              "#000017"
             ],
             [
              0.7777777777777778,
              "#000018"
             ],
             [
              0.8888888888888888,
              "#000019"
             ],
             [
              1,
              "#000020"
             ]
            ],
            "type": "heatmap"
           }
          ],
          "histogram2d": [
           {
            "colorscale": [
             [
              0,
              "#000011"
             ],
             [
              0.1111111111111111,
              "#000012"
             ],
             [
              0.2222222222222222,
              "#000013"
             ],
             [
              0.3333333333333333,
              "#000014"
             ],
             [
              0.4444444444444444,
              "#000015"
             ],
             [
              0.5555555555555556,
              "#000016"
             ],
             [
              0.6666666666666666,
              "#000017"
             ],
             [
              0.7777777777777778,
              "#000018"
             ],
             [
              0.8888888888888888,
              "#000019"
             ],
             [
              1,
              "#000020"
             ]
            ],
            "type": "histogram2d"
           }
          ],
          "icicle": [
           {
            "textfont": {
             "color": "white"
            },
            "type": "icicle"
           }
          ],
          "sankey": [
           {
            "textfont": {
             "color": "#000036"
            },
            "type": "sankey"
           }
          ],
          "scatter": [
           {
            "marker": {
             "line": {
              "width": 0
             }
            },
            "type": "scatter"
           }
          ],
          "table": [
           {
            "cells": {
             "fill": {
              "color": "#000038"
             },
             "font": {
              "color": "#000037"
             },
             "line": {
              "color": "#000039"
             }
            },
            "header": {
             "fill": {
              "color": "#000040"
             },
             "font": {
              "color": "#000036"
             },
             "line": {
              "color": "#000039"
             }
            },
            "type": "table"
           }
          ],
          "waterfall": [
           {
            "connector": {
             "line": {
              "color": "#000036",
              "width": 2
             }
            },
            "decreasing": {
             "marker": {
              "color": "#000033"
             }
            },
            "increasing": {
             "marker": {
              "color": "#000032"
             }
            },
            "totals": {
             "marker": {
              "color": "#000034"
             }
            },
            "type": "waterfall"
           }
          ]
         },
         "layout": {
          "coloraxis": {
           "colorscale": [
            [
             0,
             "#000011"
            ],
            [
             0.1111111111111111,
             "#000012"
            ],
            [
             0.2222222222222222,
             "#000013"
            ],
            [
             0.3333333333333333,
             "#000014"
            ],
            [
             0.4444444444444444,
             "#000015"
            ],
            [
             0.5555555555555556,
             "#000016"
            ],
            [
             0.6666666666666666,
             "#000017"
            ],
            [
             0.7777777777777778,
             "#000018"
            ],
            [
             0.8888888888888888,
             "#000019"
            ],
            [
             1,
             "#000020"
            ]
           ]
          },
          "colorscale": {
           "diverging": [
            [
             0,
             "#000021"
            ],
            [
             0.1,
             "#000022"
            ],
            [
             0.2,
             "#000023"
            ],
            [
             0.3,
             "#000024"
            ],
            [
             0.4,
             "#000025"
            ],
            [
             0.5,
             "#000026"
            ],
            [
             0.6,
             "#000027"
            ],
            [
             0.7,
             "#000028"
            ],
            [
             0.8,
             "#000029"
            ],
            [
             0.9,
             "#000030"
            ],
            [
             1,
             "#000031"
            ]
           ],
           "sequential": [
            [
             0,
             "#000011"
            ],
            [
             0.1111111111111111,
             "#000012"
            ],
            [
             0.2222222222222222,
             "#000013"
            ],
            [
             0.3333333333333333,
             "#000014"
            ],
            [
             0.4444444444444444,
             "#000015"
            ],
            [
             0.5555555555555556,
             "#000016"
            ],
            [
             0.6666666666666666,
             "#000017"
            ],
            [
             0.7777777777777778,
             "#000018"
            ],
            [
             0.8888888888888888,
             "#000019"
            ],
            [
             1,
             "#000020"
            ]
           ],
           "sequentialminus": [
            [
             0,
             "#000011"
            ],
            [
             0.1111111111111111,
             "#000012"
            ],
            [
             0.2222222222222222,
             "#000013"
            ],
            [
             0.3333333333333333,
             "#000014"
            ],
            [
             0.4444444444444444,
             "#000015"
            ],
            [
             0.5555555555555556,
             "#000016"
            ],
            [
             0.6666666666666666,
             "#000017"
            ],
            [
             0.7777777777777778,
             "#000018"
            ],
            [
             0.8888888888888888,
             "#000019"
            ],
            [
             1,
             "#000020"
            ]
           ]
          },
          "colorway": [
           "#000001",
           "#000002",
           "#000003",
           "#000004",
           "#000005",
           "#000006",
           "#000007",
           "#000008",
           "#000009",
           "#000010"
          ]
         }
        },
        "title": {
         "text": " - Ratio Sharpe"
        },
        "xaxis": {
         "anchor": "y",
         "domain": [
          0,
          1
         ],
         "title": {}
        },
        "yaxis": {
         "anchor": "x",
         "domain": [
          0,
          1
         ],
         "title": {
          "text": "value"
         }
        }
       }
      }
     },
     "metadata": {},
     "output_type": "display_data"
    }
   ],
   "source": [
    "pl.plot_sharpe(rets_df)"
   ]
  },
  {
   "cell_type": "code",
   "execution_count": 25,
   "metadata": {},
   "outputs": [
    {
     "name": "stderr",
     "output_type": "stream",
     "text": [
      "c:\\Users\\hugo.perezdealbeniz\\AppData\\Local\\miniconda3\\envs\\refinitiv\\lib\\site-packages\\quantstats\\stats.py:968: FutureWarning:\n",
      "\n",
      "In a future version of pandas all arguments of DataFrame.pivot will be keyword-only.\n",
      "\n"
     ]
    }
   ],
   "source": [
    "name = 'rents decil 1'\n",
    "filepath = r'C:\\Users\\hugo.perezdealbeniz\\Documents\\GitHub\\ranking_DIP_european_equities\\app'\n",
    "qs.reports.html(returns = rets_df['decil_1'],benchmark=rets_df['equiponderado'], periods_per_year=12, match_dates=True, title=name, download_filename=name +'.html',output=filepath)"
   ]
  },
  {
   "cell_type": "code",
   "execution_count": 17,
   "metadata": {},
   "outputs": [],
   "source": []
  },
  {
   "cell_type": "code",
   "execution_count": null,
   "metadata": {},
   "outputs": [],
   "source": []
  }
 ],
 "metadata": {
  "kernelspec": {
   "display_name": "Python 3",
   "language": "python",
   "name": "python3"
  },
  "language_info": {
   "codemirror_mode": {
    "name": "ipython",
    "version": 3
   },
   "file_extension": ".py",
   "mimetype": "text/x-python",
   "name": "python",
   "nbconvert_exporter": "python",
   "pygments_lexer": "ipython3",
   "version": "3.10.9"
  },
  "orig_nbformat": 4
 },
 "nbformat": 4,
 "nbformat_minor": 2
}
