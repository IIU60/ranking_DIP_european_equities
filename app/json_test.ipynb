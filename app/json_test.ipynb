{
 "cells": [
  {
   "cell_type": "code",
   "execution_count": 1,
   "metadata": {},
   "outputs": [],
   "source": [
    "import json"
   ]
  },
  {
   "cell_type": "code",
   "execution_count": 2,
   "metadata": {},
   "outputs": [],
   "source": [
    "d = dict(n_quantiles=10,\n",
    "min_stocks_per_date_ratio =0.8,\n",
    "min_total_dates_ratio =0.8,\n",
    "data_directory_filepath =r'Z:\\Interés Departamental\\Model Portfolio\\Laboratorio de Ideas\\Python\\datos Hugo',\n",
    "prices_csv_filepath=r'Z:\\Interés Departamental\\Model Portfolio\\Laboratorio de Ideas\\Python\\datos Hugo\\PriceClose.csv',\n",
    "mask_filepath = r'Z:\\Interés Departamental\\Model Portfolio\\Laboratorio de Ideas\\Python\\Filtros\\stoxx600_month_end_mask.csv',\n",
    "expected_stocks_per_date =600)"
   ]
  },
  {
   "cell_type": "code",
   "execution_count": 3,
   "metadata": {},
   "outputs": [
    {
     "data": {
      "text/plain": [
       "{'n_quantiles': 10,\n",
       " 'min_stocks_per_date_ratio': 0.8,\n",
       " 'min_total_dates_ratio': 0.8,\n",
       " 'data_directory_filepath': 'Z:\\\\Interés Departamental\\\\Model Portfolio\\\\Laboratorio de Ideas\\\\Python\\\\datos Hugo',\n",
       " 'prices_csv_filepath': 'Z:\\\\Interés Departamental\\\\Model Portfolio\\\\Laboratorio de Ideas\\\\Python\\\\datos Hugo\\\\PriceClose.csv',\n",
       " 'mask_filepath': 'Z:\\\\Interés Departamental\\\\Model Portfolio\\\\Laboratorio de Ideas\\\\Python\\\\Filtros\\\\stoxx600_month_end_mask.csv',\n",
       " 'expected_stocks_per_date': 600}"
      ]
     },
     "execution_count": 3,
     "metadata": {},
     "output_type": "execute_result"
    }
   ],
   "source": [
    "d"
   ]
  },
  {
   "cell_type": "code",
   "execution_count": 17,
   "metadata": {},
   "outputs": [],
   "source": [
    "with open('test.json','r+') as file:\n",
    "    settings = json.load(file)\n",
    "    settings.update(d)\n",
    "    file.seek(0)\n",
    "    json.dump(settings,file)"
   ]
  },
  {
   "cell_type": "code",
   "execution_count": 12,
   "metadata": {},
   "outputs": [
    {
     "data": {
      "text/plain": [
       "[{'name': 'Stoxx600_fin_de_mes',\n",
       "  'data_dir_fp': '',\n",
       "  'prices_fp': '',\n",
       "  'mask_fp': ''},\n",
       " {'name': 'Stoxx600_principios_de_mes',\n",
       "  'data_dir_fp': '',\n",
       "  'prices_fp': '',\n",
       "  'mask_fp': ''},\n",
       " {'name': 'ESG', 'data_dir_fp': '', 'prices_fp': '', 'mask_fp': ''}]"
      ]
     },
     "execution_count": 12,
     "metadata": {},
     "output_type": "execute_result"
    }
   ],
   "source": [
    "settings"
   ]
  }
 ],
 "metadata": {
  "kernelspec": {
   "display_name": "ranking_dev",
   "language": "python",
   "name": "python3"
  },
  "language_info": {
   "codemirror_mode": {
    "name": "ipython",
    "version": 3
   },
   "file_extension": ".py",
   "mimetype": "text/x-python",
   "name": "python",
   "nbconvert_exporter": "python",
   "pygments_lexer": "ipython3",
   "version": "3.10.9"
  },
  "orig_nbformat": 4
 },
 "nbformat": 4,
 "nbformat_minor": 2
}
