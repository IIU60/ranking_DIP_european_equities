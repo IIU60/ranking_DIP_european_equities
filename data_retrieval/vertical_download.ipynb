{
 "cells": [
  {
   "cell_type": "code",
   "execution_count": 1,
   "metadata": {},
   "outputs": [],
   "source": [
    "import sys\n",
    "sys.path.append(r'C:\\Users\\hugo.perezdealbeniz\\Documents\\GitHub\\ranking_DIP_european_equities\\code_in_production')"
   ]
  },
  {
   "cell_type": "code",
   "execution_count": 2,
   "metadata": {},
   "outputs": [],
   "source": [
    "import eikon as ek\n",
    "import pandas as pd\n",
    "from tqdm import tqdm\n",
    "import os\n",
    "\n",
    "import utils\n",
    "\n",
    "ek.set_app_key('89915a3b58874e1599870c6ecc45d6edd6344f8c')"
   ]
  },
  {
   "attachments": {},
   "cell_type": "markdown",
   "metadata": {},
   "source": [
    "### Download Function\n",
    "---"
   ]
  },
  {
   "cell_type": "code",
   "execution_count": 3,
   "metadata": {},
   "outputs": [],
   "source": [
    "#lista de tickers deseados\n",
    "constituents_list = pd.read_excel(r'C:\\Users\\hugo.perezdealbeniz\\Desktop\\Ranking DIP European Equities\\ReutersEikon\\data_retrieval_eikon.xlsm',sheet_name='JL_data',skiprows=8)['Unnamed: 7'].dropna().tolist()"
   ]
  },
  {
   "cell_type": "code",
   "execution_count": 4,
   "metadata": {},
   "outputs": [
    {
     "data": {
      "text/plain": [
       "1825"
      ]
     },
     "execution_count": 4,
     "metadata": {},
     "output_type": "execute_result"
    }
   ],
   "source": [
    "len(constituents_list)"
   ]
  },
  {
   "cell_type": "code",
   "execution_count": 5,
   "metadata": {},
   "outputs": [],
   "source": [
    "#las funciones de eikon a descargar\n",
    "fields_list = ['TR.TotalDebtToEV',\n",
    " #'TR.EV',\n",
    " #'TR.EVToSales',\n",
    " #'TR.NetDebtToEV',\n",
    " #'TR.PriceToSalesPerShare',\n",
    " #'TR.EVTOEBIT',\n",
    " #'TR.PE',\n",
    " #'TR.PriceToCFPerShare',\n",
    " #'TR.PriceToBVPerShare',\n",
    " #'TR.NetDebtToEBITDA',\n",
    " #'TR.TotalDebtToEBITDA',\n",
    " #'TR.EVTOEBITDA',\n",
    " #'TR.CompanyMarketCapitalization',\n",
    " #'TR.EVTOOperatingCashFlow',\n",
    " #'TR.PriceToTangBVPerShare',\n",
    " #'TR.HistPEG',\n",
    " #'TR.DividendYield'\n",
    " ]"
   ]
  },
  {
   "cell_type": "code",
   "execution_count": 6,
   "metadata": {},
   "outputs": [],
   "source": [
    "#parametros de la funcion\n",
    "parameters = {'SDate':'2000-01-01','EDate':'2023-01-01','Frq':'M','Curn':'EUR'}"
   ]
  },
  {
   "cell_type": "code",
   "execution_count": 15,
   "metadata": {},
   "outputs": [],
   "source": [
    "#directorio en el que guardar los datos\n",
    "dir_fp = 'Z:\\Interés Departamental\\Model Portfolio\\Hugo\\pruebas eikon ruben'"
   ]
  },
  {
   "attachments": {},
   "cell_type": "markdown",
   "metadata": {},
   "source": [
    "### Reconstruction\n",
    "---"
   ]
  },
  {
   "attachments": {},
   "cell_type": "markdown",
   "metadata": {},
   "source": [
    "- concat all the dfs\n",
    "- dropna\n",
    "- drop duplicates\n",
    "- pivot  \n",
    "- should check len of individual dfs so faulty ones get get dropped (only if interferes with pivot)\n",
    "- concated_df['Date'] = concated_df.Date.apply(lambda x: x[:10])\n",
    "- pivoted_df = concated_df.pivot(index='Date',columns='Instrument',values='Price Close')\n",
    "- to_csv()"
   ]
  },
  {
   "cell_type": "code",
   "execution_count": 7,
   "metadata": {},
   "outputs": [],
   "source": [
    "def vertical_download(fields_list,constituents_list,parameters,dir_fp):\n",
    "    \n",
    "    os.chdir(fr'{dir_fp}')\n",
    "    \n",
    "    for field in fields_list:\n",
    "        try:\n",
    "            field_name = field.split('.')[-1]\n",
    "            os.mkdir(field_name)\n",
    "            os.mkdir(field_name+'/raw_data')\n",
    "            fields = [field,field+'.date']\n",
    "            print(f'Downloading {field_name}')\n",
    "\n",
    "            fails = []\n",
    "            dfs_list = []\n",
    "            \n",
    "            for instrument in tqdm(constituents_list):\n",
    "                try:\n",
    "                    df, err = ek.get_data(instrument, fields, parameters)\n",
    "                    df.to_csv(f\"{field_name}/raw_data/{instrument}.csv\")\n",
    "                    dfs_list.append(df)\n",
    "                except Exception as x:\n",
    "                    fails.append(instrument)\n",
    "                    print(x)\n",
    "            for instrument in tqdm(fails):\n",
    "                try:\n",
    "                    df, err = ek.get_data(instrument, fields, parameters)\n",
    "                    df.to_csv(f\"{field_name}/raw_data/{instrument}.csv\")\n",
    "                    dfs_list.append(df)\n",
    "                except Exception as x:\n",
    "                    print(f'Failed twice for {instrument}',x)\n",
    "\n",
    "            concated_df = pd.concat(dfs_list)\n",
    "            processed_df = concated_df.dropna().drop_duplicates()\n",
    "            processed_df['Date'] = processed_df.Date.apply(lambda x: x[:10])\n",
    "            pivoted_df = processed_df.pivot(index='Date',columns='Instrument',values=list(set(processed_df.columns)-set(['Date','Instrument']))[0])\n",
    "            days_list = utils.create_dates_list('days',as_str=True)\n",
    "            months_list = utils.create_dates_list('months',as_str=True)\n",
    "            dates_dict = {}\n",
    "            for i in days_list:\n",
    "                dates_dict[i] = pd.NA\n",
    "            dates_dict.update(pivoted_df.T.to_dict())\n",
    "            complete_dates_df = pd.DataFrame(dates_dict).T.sort_index()\n",
    "            filled_df = complete_dates_df.fillna(method='ffill',limit=7).loc[months_list]\n",
    "            filled_df.to_csv(f'{field_name}/{field_name}.csv')\n",
    "        except Exception as x:\n",
    "            print(x)"
   ]
  },
  {
   "cell_type": "code",
   "execution_count": 14,
   "metadata": {},
   "outputs": [
    {
     "name": "stdout",
     "output_type": "stream",
     "text": [
      "Downloading TotalDebtToEV\n"
     ]
    },
    {
     "name": "stderr",
     "output_type": "stream",
     "text": [
      "100%|██████████| 3/3 [00:03<00:00,  1.03s/it]\n",
      "0it [00:00, ?it/s]\n"
     ]
    }
   ],
   "source": [
    "#import time\n",
    "#time.sleep(32272)\n",
    "\n",
    "vertical_download(fields_list,constituents_list[:3],parameters)"
   ]
  },
  {
   "cell_type": "code",
   "execution_count": 17,
   "metadata": {},
   "outputs": [
    {
     "name": "stdout",
     "output_type": "stream",
     "text": [
      "TotalDebtToEV\n"
     ]
    },
    {
     "data": {
      "image/png": "[encoded data removed]",
      "text/plain": [
       "<Figure size 640x480 with 1 Axes>"
      ]
     },
     "metadata": {},
     "output_type": "display_data"
    }
   ],
   "source": [
    "for index,i in enumerate(os.listdir(dir_fp)):\n",
    "    if index > 20:# or i=='PriceToTangBVPerShare':\n",
    "        continue\n",
    "    print(i)\n",
    "    df = pd.read_csv(dir_fp+f'/{i}/{i}.csv')\n",
    "    df.notna().sum(axis=1).plot(legend=True)"
   ]
  }
 ],
 "metadata": {
  "kernelspec": {
   "display_name": "Python 3",
   "language": "python",
   "name": "python3"
  },
  "language_info": {
   "codemirror_mode": {
    "name": "ipython",
    "version": 3
   },
   "file_extension": ".py",
   "mimetype": "text/x-python",
   "name": "python",
   "nbconvert_exporter": "python",
   "pygments_lexer": "ipython3",
   "version": "3.10.9"
  },
  "orig_nbformat": 4
 },
 "nbformat": 4,
 "nbformat_minor": 2
}
