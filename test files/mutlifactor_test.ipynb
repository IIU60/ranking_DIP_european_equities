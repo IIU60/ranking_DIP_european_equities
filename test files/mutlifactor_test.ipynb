{
 "cells": [
  {
   "cell_type": "code",
   "execution_count": 1,
   "metadata": {},
   "outputs": [],
   "source": [
    "%load_ext autoreload\n",
    "%autoreload 2"
   ]
  },
  {
   "cell_type": "code",
   "execution_count": 2,
   "metadata": {},
   "outputs": [],
   "source": [
    "import pandas as pd\n",
    "import app_functions as af\n",
    "import plots as pl"
   ]
  },
  {
   "cell_type": "code",
   "execution_count": 3,
   "metadata": {},
   "outputs": [],
   "source": [
    "n_quantiles = 10\n",
    "pivoted_data_directory_filepath = r'Z:\\Interés Departamental\\Model Portfolio\\Hugo\\Ranking DIP European Equities\\copia 12-04-2023\\data\\vertical_dowload_files'\n",
    "prices_csv_filepath = r'Z:\\Interés Departamental\\Model Portfolio\\Hugo\\Ranking DIP European Equities\\copia 12-04-2023\\data\\vertical_dowload_files\\PriceClose.csv'\n",
    "min_stocks_per_date_ratio=0.8\n",
    "min_total_dates_ratio=0.8\n",
    "expected_stocks_per_date=600\n",
    "mask_filepath = r'Z:\\Interés Departamental\\Model Portfolio\\Hugo\\Ranking DIP European Equities\\copia 12-04-2023\\data\\PriceClose_vertical\\monthly_constituents_filter.csv'"
   ]
  },
  {
   "cell_type": "code",
   "execution_count": 4,
   "metadata": {},
   "outputs": [
    {
     "name": "stderr",
     "output_type": "stream",
     "text": [
      "2023-04-18 12:07:25.627 \n",
      "  \u001b[33m\u001b[1mWarning:\u001b[0m to view this Streamlit app on a browser, run it with the following\n",
      "  command:\n",
      "\n",
      "    streamlit run c:\\Users\\hugo.perezdealbeniz\\AppData\\Local\\miniconda3\\envs\\refinitiv\\lib\\site-packages\\ipykernel_launcher.py [ARGUMENTS]\n"
     ]
    }
   ],
   "source": [
    "prices_df = pd.read_csv(prices_csv_filepath,index_col=0)\n",
    "mask=pd.read_csv(mask_filepath,index_col=0)\n",
    "good_dfs,bad_dfs = af.filter_data(pivoted_data_directory_filepath,min_stocks_per_date_ratio,min_total_dates_ratio,expected_stocks_per_date,mask)"
   ]
  },
  {
   "cell_type": "code",
   "execution_count": 7,
   "metadata": {},
   "outputs": [],
   "source": [
    "ev = good_dfs['EV']\n",
    "evtoebit = good_dfs['EVTOEBIT']"
   ]
  },
  {
   "cell_type": "code",
   "execution_count": 8,
   "metadata": {},
   "outputs": [
    {
     "name": "stdout",
     "output_type": "stream",
     "text": [
      "[]\n",
      "[]\n"
     ]
    }
   ],
   "source": [
    "ranked_ev = af.rank_data(ev,n_quantiles,'high')\n",
    "ranked_evtoebit = af.rank_data(evtoebit,n_quantiles,'high')"
   ]
  },
  {
   "cell_type": "code",
   "execution_count": null,
   "metadata": {},
   "outputs": [],
   "source": [
    "weights"
   ]
  },
  {
   "cell_type": "code",
   "execution_count": 9,
   "metadata": {},
   "outputs": [],
   "source": [
    "import numpy as np"
   ]
  },
  {
   "cell_type": "code",
   "execution_count": null,
   "metadata": {},
   "outputs": [],
   "source": [
    "np.mean(ran)"
   ]
  }
 ],
 "metadata": {
  "kernelspec": {
   "display_name": "equities_ranking",
   "language": "python",
   "name": "python3"
  },
  "language_info": {
   "codemirror_mode": {
    "name": "ipython",
    "version": 3
   },
   "file_extension": ".py",
   "mimetype": "text/x-python",
   "name": "python",
   "nbconvert_exporter": "python",
   "pygments_lexer": "ipython3",
   "version": "3.10.9"
  },
  "orig_nbformat": 4
 },
 "nbformat": 4,
 "nbformat_minor": 2
}
