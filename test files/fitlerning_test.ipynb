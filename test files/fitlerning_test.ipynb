{
 "cells": [
  {
   "cell_type": "code",
   "execution_count": 1,
   "metadata": {},
   "outputs": [],
   "source": [
    "import os\n",
    "from app_functions import read_and_sort_data, apply_mask\n",
    "import pandas as pd"
   ]
  },
  {
   "cell_type": "code",
   "execution_count": 4,
   "metadata": {},
   "outputs": [],
   "source": [
    "def filter_data(pivoted_data_directory_filepath, min_stocks_per_date_ratio=0.0, min_total_dates_ratio=0.0, expected_stocks_per_date=1, mask=None):\n",
    "    \"\"\"\n",
    "    Given a path to the directory with pivoted data files, filter the data based on the criteria below.\n",
    "\n",
    "    :param pivoted_data_directory_filepath: (string) path to directory containing pivoted data\n",
    "    :param min_stocks_per_date_ratio: (float) minimum ratio of stocks to expected stocks per date\n",
    "    :param min_total_dates_ratio: (float) minimum ratio of total dates that meet the min_stocks_per_date_ratio criterion\n",
    "    :param expected_stocks_per_date: (int) expected number of stocks per date\n",
    "    :param mask: (dataframe) mask to apply to the data\n",
    "\n",
    "    :return: good_dfs (dict), bad_dfs (dict)\n",
    "    \"\"\"\n",
    "\n",
    "    good_dfs = {}\n",
    "    bad_dfs = {}\n",
    "    \n",
    "    for filename in os.listdir(pivoted_data_directory_filepath):\n",
    "\n",
    "        filepath = os.path.join(pivoted_data_directory_filepath,filename)\n",
    "        if os.path.isfile(filepath):\n",
    "            print(filename)\n",
    "            # Read and sort the data file\n",
    "            df = read_and_sort_data(filepath)\n",
    "\n",
    "            # If expected_stocks_per_date is not passed in as an argument, set it as the number of columns in df\n",
    "            if expected_stocks_per_date == 1:\n",
    "                expected_stocks_per_date = df.shape[1]\n",
    "\n",
    "            # Apply mask to the data, if provided\n",
    "            masked_df = apply_mask(df,mask)\n",
    "    \n",
    "            # Drop rows and columns with all NaN values\n",
    "            masked_df = masked_df.dropna(axis=0,how='all').dropna(axis=1,how='all')\n",
    "\n",
    "            # Filter data based on the min_stocks_per_date_ratio and expected_stocks_per_date criteria\n",
    "            masked_df = masked_df.loc[(masked_df.notna().sum(axis=1)/expected_stocks_per_date) > min_stocks_per_date_ratio]\n",
    "\n",
    "            # Calculate ratio of dates that meet the above criterion\n",
    "            maintained_dates_ratio = len(masked_df)/len(df)\n",
    "            \n",
    "            # Categorize data into good or bad based on the min_total_dates_ratio criterion\n",
    "            if maintained_dates_ratio > min_total_dates_ratio:\n",
    "                good_dfs[filename.split('.')[0]] = df.loc[masked_df.index]\n",
    "            else:\n",
    "                bad_dfs[f\"{filename.split('.')[0]}: {maintained_dates_ratio}\"] = df.loc[masked_df.index]\n",
    "    \n",
    "    return good_dfs,bad_dfs"
   ]
  },
  {
   "cell_type": "code",
   "execution_count": 5,
   "metadata": {},
   "outputs": [],
   "source": [
    "n_quantiles = 10\n",
    "min_stocks_per_date_ratio =0.8\n",
    "min_total_dates_ratio = 0.8\n",
    "data_directory_filepath = r'Z:\\Interés Departamental\\Model Portfolio\\Hugo\\Ranking DIP European Equities\\copia 12-04-2023\\data\\vertical_dowload_files'\n",
    "mask_filepath = r'Z:\\Interés Departamental\\Model Portfolio\\Hugo\\Ranking DIP European Equities\\copia 12-04-2023\\data\\PriceClose_vertical\\monthly_constituents_filter.csv'\n",
    "expected_stocks_per_date = 600"
   ]
  },
  {
   "cell_type": "code",
   "execution_count": 7,
   "metadata": {},
   "outputs": [
    {
     "name": "stdout",
     "output_type": "stream",
     "text": [
      "CompanyMarketCapitalization.csv\n",
      "EV.csv\n",
      "EVTOEBIT.csv\n",
      "EVTOEBITDA.csv\n",
      "EVTOOperatingCashFlow.csv\n",
      "EVToSales.csv\n",
      "HistPEG.csv\n",
      "NetDebtToEBITDA.csv\n",
      "NetDebtToEV.csv\n",
      "PE.csv\n",
      "PriceClose.csv\n",
      "PriceToBVPerShare.csv\n",
      "PriceToCFPerShare.csv\n",
      "PriceToSalesPerShare.csv\n",
      "PriceToTangBVPerShare.csv\n",
      "TotalDebtToEBITDA.csv\n",
      "TotalDebtToEV.csv\n"
     ]
    }
   ],
   "source": [
    "mask = read_and_sort_data(mask_filepath)\n",
    "good_dfs, bad_dfs = filter_data(data_directory_filepath,min_stocks_per_date_ratio,min_total_dates_ratio,expected_stocks_per_date,mask)"
   ]
  },
  {
   "cell_type": "code",
   "execution_count": 8,
   "metadata": {},
   "outputs": [
    {
     "data": {
      "text/plain": [
       "dict_keys(['EV', 'EVTOEBIT', 'EVTOEBITDA', 'EVTOOperatingCashFlow', 'EVToSales', 'PE', 'PriceClose', 'PriceToBVPerShare', 'PriceToCFPerShare', 'PriceToSalesPerShare', 'PriceToTangBVPerShare', 'TotalDebtToEBITDA', 'TotalDebtToEV'])"
      ]
     },
     "execution_count": 8,
     "metadata": {},
     "output_type": "execute_result"
    }
   ],
   "source": [
    "good_dfs.keys()"
   ]
  },
  {
   "cell_type": "code",
   "execution_count": null,
   "metadata": {},
   "outputs": [],
   "source": []
  }
 ],
 "metadata": {
  "kernelspec": {
   "display_name": "equities_ranking",
   "language": "python",
   "name": "python3"
  },
  "language_info": {
   "codemirror_mode": {
    "name": "ipython",
    "version": 3
   },
   "file_extension": ".py",
   "mimetype": "text/x-python",
   "name": "python",
   "nbconvert_exporter": "python",
   "pygments_lexer": "ipython3",
   "version": "3.10.9"
  },
  "orig_nbformat": 4
 },
 "nbformat": 4,
 "nbformat_minor": 2
}
