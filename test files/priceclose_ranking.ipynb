{
 "cells": [
  {
   "cell_type": "code",
   "execution_count": null,
   "metadata": {},
   "outputs": [],
   "source": [
    "import eikon as ek\n",
    "import pandas as pd\n",
    "import numpy as np\n",
    "import matplotlib.pyplot as plt\n",
    "import seaborn as sns\n",
    "\n",
    "ek.set_app_key('89915a3b58874e1599870c6ecc45d6edd6344f8c')"
   ]
  },
  {
   "cell_type": "code",
   "execution_count": null,
   "metadata": {},
   "outputs": [],
   "source": [
    "CLOSEPRICE_df,err = ek.get_data(instruments='0#.STOXX',fields=['TR.CLOSEPRICE','TR.CLOSEPRICE.periodenddate'],parameters={'SDate':'20000101','EDate':'20230101','Frq':'CM','Curn':'EUR','CALCMETHOD':'CLOSE'})"
   ]
  },
  {
   "cell_type": "code",
   "execution_count": null,
   "metadata": {},
   "outputs": [],
   "source": [
    "CLOSEPRICE_df.rename(columns={'Period End Date':'Date'},inplace=True)"
   ]
  },
  {
   "cell_type": "code",
   "execution_count": null,
   "metadata": {},
   "outputs": [],
   "source": [
    "CLOSEPRICE_df"
   ]
  },
  {
   "cell_type": "code",
   "execution_count": null,
   "metadata": {},
   "outputs": [],
   "source": [
    "sns.lineplot(data=CLOSEPRICE_df, x='Date',y='Close Price',hue='Instrument',legend=False)"
   ]
  },
  {
   "cell_type": "code",
   "execution_count": null,
   "metadata": {},
   "outputs": [],
   "source": [
    "pivoted_CLOSEPRICE_df = CLOSEPRICE_df.pivot(index='Date',columns='Instrument',values='Close Price')"
   ]
  },
  {
   "cell_type": "code",
   "execution_count": null,
   "metadata": {},
   "outputs": [],
   "source": [
    "pivoted_CLOSEPRICE_df"
   ]
  },
  {
   "cell_type": "code",
   "execution_count": null,
   "metadata": {},
   "outputs": [],
   "source": [
    "selected_constituents_df = pivoted_CLOSEPRICE_df.dropna(axis=1)"
   ]
  },
  {
   "cell_type": "code",
   "execution_count": null,
   "metadata": {},
   "outputs": [],
   "source": [
    "ranked_df = selected_constituents_df.T"
   ]
  },
  {
   "cell_type": "code",
   "execution_count": null,
   "metadata": {},
   "outputs": [],
   "source": [
    "###### HAY QUE HACER DE FORMA VECTORIZADA #########\n",
    "for date,prices in zip(selected_constituents_df.index,selected_constituents_df.astype(float).values):\n",
    "    ranked_df[date] = pd.qcut(prices,10,duplicates='drop',labels=False)\n",
    "ranked_df"
   ]
  },
  {
   "cell_type": "code",
   "execution_count": null,
   "metadata": {},
   "outputs": [],
   "source": [
    "#### decil 0 tiene los valores mas bajos y el 9 los mas altos ####\n",
    "def deciles_lists(df):\n",
    "    diccionario = {}\n",
    "    for i in range(10):\n",
    "        diccionario[f'decil_{i}'] = {}\n",
    "        for date,ranks in df.items():\n",
    "            diccionario[f'decil_{i}'][date] = ranks.loc[ranks == i].index.tolist()\n",
    "    return diccionario"
   ]
  },
  {
   "cell_type": "code",
   "execution_count": null,
   "metadata": {},
   "outputs": [],
   "source": [
    "deciles_dict = deciles_lists(ranked_df)"
   ]
  },
  {
   "cell_type": "code",
   "execution_count": null,
   "metadata": {},
   "outputs": [],
   "source": [
    "rentabilidad_acciones_df = selected_constituents_df.pct_change()"
   ]
  },
  {
   "cell_type": "code",
   "execution_count": null,
   "metadata": {},
   "outputs": [],
   "source": [
    "deciles_df = selected_constituents_df.quantile(q=np.arange(0.1,1,0.1),axis=1)"
   ]
  },
  {
   "cell_type": "code",
   "execution_count": null,
   "metadata": {},
   "outputs": [],
   "source": [
    "rentabilidad_acciones_df"
   ]
  },
  {
   "cell_type": "code",
   "execution_count": null,
   "metadata": {},
   "outputs": [],
   "source": [
    "rentabilidades_dict = {}\n",
    "rentabilidades_dict['equiponderado'] = {}\n",
    "for decil,fechas in deciles_dict.items():\n",
    "    rentabilidades_dict[decil] = {}\n",
    "    for fecha, stocks in fechas.items():\n",
    "        rentabilidades_dict[decil][fecha] = rentabilidad_acciones_df.loc[fecha,stocks].mean()\n",
    "        rentabilidades_dict['equiponderado'][fecha] = rentabilidad_acciones_df.loc[fecha].mean()"
   ]
  },
  {
   "cell_type": "code",
   "execution_count": null,
   "metadata": {},
   "outputs": [],
   "source": [
    "plt.style.use('ggplot')"
   ]
  },
  {
   "cell_type": "code",
   "execution_count": null,
   "metadata": {},
   "outputs": [],
   "source": [
    "plt.figure(figsize=(20,10))\n",
    "for decil in rentabilidades_dict:\n",
    "    plt.plot(list(rentabilidades_dict['decil_0'].keys())[1:],np.array(list(rentabilidades_dict[decil].values())[1:]).cumsum(),label=decil)\n",
    "plt.xticks(rotation=-45,fontsize=10,ha='left',rotation_mode='anchor')\n",
    "plt.legend()\n",
    "plt.tight_layout()"
   ]
  },
  {
   "cell_type": "code",
   "execution_count": 1,
   "metadata": {},
   "outputs": [
    {
     "ename": "NameError",
     "evalue": "name 'rentabilidades_dict' is not defined",
     "output_type": "error",
     "traceback": [
      "\u001b[1;31m---------------------------------------------------------------------------\u001b[0m",
      "\u001b[1;31mNameError\u001b[0m                                 Traceback (most recent call last)",
      "Cell \u001b[1;32mIn[1], line 1\u001b[0m\n\u001b[1;32m----> 1\u001b[0m keys \u001b[39m=\u001b[39m \u001b[39mlist\u001b[39m(rentabilidades_dict\u001b[39m.\u001b[39mkeys())\n\u001b[0;32m      2\u001b[0m rentabilidades_medias \u001b[39m=\u001b[39m [np\u001b[39m.\u001b[39mmean(\u001b[39mlist\u001b[39m(rentabilidades_dict[decil]\u001b[39m.\u001b[39mvalues())[\u001b[39m1\u001b[39m:]) \u001b[39mfor\u001b[39;00m decil \u001b[39min\u001b[39;00m rentabilidades_dict]\n\u001b[0;32m      4\u001b[0m plt\u001b[39m.\u001b[39mbar(keys[::\u001b[39m-\u001b[39m\u001b[39m1\u001b[39m],rentabilidades_medias[::\u001b[39m-\u001b[39m\u001b[39m1\u001b[39m])\n",
      "\u001b[1;31mNameError\u001b[0m: name 'rentabilidades_dict' is not defined"
     ]
    }
   ],
   "source": [
    "keys = list(rentabilidades_dict.keys())\n",
    "rentabilidades_medias = [np.mean(list(rentabilidades_dict[decil].values())[1:]) for decil in rentabilidades_dict]\n",
    "\n",
    "plt.bar(keys[::-1],rentabilidades_medias[::-1])\n",
    "plt.xticks(rotation=-45,ha='left',rotation_mode='anchor')"
   ]
  }
 ],
 "metadata": {
  "kernelspec": {
   "display_name": "refinitiv",
   "language": "python",
   "name": "python3"
  },
  "language_info": {
   "codemirror_mode": {
    "name": "ipython",
    "version": 3
   },
   "file_extension": ".py",
   "mimetype": "text/x-python",
   "name": "python",
   "nbconvert_exporter": "python",
   "pygments_lexer": "ipython3",
   "version": "3.10.8"
  },
  "orig_nbformat": 4,
  "vscode": {
   "interpreter": {
    "hash": "bb7d44efcd38e9bc41c0713c213b3ac8cf383d80a277ee2bf1d29e4f973cf514"
   }
  }
 },
 "nbformat": 4,
 "nbformat_minor": 2
}
