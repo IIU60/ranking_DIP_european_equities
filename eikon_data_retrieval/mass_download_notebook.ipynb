{
 "cells": [
  {
   "cell_type": "code",
   "execution_count": 2,
   "metadata": {},
   "outputs": [],
   "source": [
    "%load_ext autoreload\n",
    "%autoreload 2"
   ]
  },
  {
   "cell_type": "code",
   "execution_count": 3,
   "metadata": {},
   "outputs": [],
   "source": [
    "import eikon as ek\n",
    "import pandas as pd\n",
    "import json\n",
    "from data_retrieval import vertical_download, reconstruction, download_indicators, continue_download, dfs_list_from_dir"
   ]
  },
  {
   "cell_type": "code",
   "execution_count": 4,
   "metadata": {},
   "outputs": [],
   "source": [
    "import warnings\n",
    "warnings.filterwarnings('ignore')"
   ]
  },
  {
   "cell_type": "code",
   "execution_count": 5,
   "metadata": {},
   "outputs": [],
   "source": [
    "#lectura de fichero .json con la lista de tickers del stoxx 600\n",
    "with open(r'Z:\\Interés Departamental\\Model Portfolio\\Hugo\\pruebas eikon ruben/stoxx600_constituents_list.json','r') as file:\n",
    "    constituents_list = json.load(file)"
   ]
  },
  {
   "cell_type": "code",
   "execution_count": 6,
   "metadata": {},
   "outputs": [
    {
     "data": {
      "text/plain": [
       "1825"
      ]
     },
     "execution_count": 6,
     "metadata": {},
     "output_type": "execute_result"
    }
   ],
   "source": [
    "len(constituents_list)"
   ]
  },
  {
   "cell_type": "code",
   "execution_count": 24,
   "metadata": {},
   "outputs": [],
   "source": [
    "#lista de instrumentos deseados\n",
    "instruments_list = constituents_list#[:50]\n",
    "#las funciones de eikon a descargar\n",
    "fields_list = [#'TR.EBITDA3YrCAGR',\n",
    "               #'TR.EBITDA5YrCAGR',\n",
    "               'TR.GrossProfit3YrCAGR',\n",
    "               'TR.GrossProfit5YrCAGR'\n",
    "               ]\n",
    "#parametros de la funcion\n",
    "parameters = {'SDate':'2000-01-01','EDate':'2023-01-01','Frq':'FY','Period':'FY0'}\n",
    "#directorio en el que guardar los datos\n",
    "dir_fp = r'C:\\Users\\hugo.perezdealbeniz\\Documents\\GitHub\\ranking_DIP_european_equities\\eikon_data_retrieval\\data'"
   ]
  },
  {
   "cell_type": "code",
   "execution_count": 27,
   "metadata": {},
   "outputs": [
    {
     "name": "stdout",
     "output_type": "stream",
     "text": [
      "Downloading error_test(14)\n"
     ]
    },
    {
     "name": "stderr",
     "output_type": "stream",
     "text": [
      "100%|██████████| 5/5 [00:04<00:00,  1.14it/s]\n"
     ]
    },
    {
     "data": {
      "text/plain": [
       "([   Instrument  Gross Profit, 5 Yr CAGR                  Date\n",
       "  0       III.L                     <NA>  2000-12-31T00:00:00Z\n",
       "  1       III.L                 4.450668  2001-03-31T00:00:00Z\n",
       "  2       III.L                 7.298461  2002-03-31T00:00:00Z\n",
       "  3       III.L                12.474611  2003-03-31T00:00:00Z\n",
       "  4       III.L                 0.831139  2004-03-31T00:00:00Z\n",
       "  5       III.L                68.963168  2005-03-31T00:00:00Z\n",
       "  6       III.L                84.708845  2006-03-31T00:00:00Z\n",
       "  7       III.L                81.598986  2007-03-31T00:00:00Z\n",
       "  8       III.L                58.099993  2008-03-31T00:00:00Z\n",
       "  9       III.L                     <NA>  2008-03-31T00:00:00Z\n",
       "  10      III.L                 2.694953  2010-03-31T00:00:00Z\n",
       "  11      III.L                -11.46455  2011-03-31T00:00:00Z\n",
       "  12      III.L                     <NA>  2011-03-31T00:00:00Z\n",
       "  13      III.L                -3.291819  2013-03-31T00:00:00Z\n",
       "  14      III.L                     <NA>  2013-03-31T00:00:00Z\n",
       "  15      III.L                 0.627829  2015-03-31T00:00:00Z\n",
       "  16      III.L                 7.545375  2016-03-31T00:00:00Z\n",
       "  17      III.L                     <NA>  2016-03-31T00:00:00Z\n",
       "  18      III.L                11.223979  2018-03-31T00:00:00Z\n",
       "  19      III.L                11.506089  2019-03-31T00:00:00Z\n",
       "  20      III.L               -16.352947  2020-03-31T00:00:00Z\n",
       "  21      III.L                20.592761  2021-03-31T00:00:00Z\n",
       "  22      III.L                26.293937  2022-03-31T00:00:00Z,\n",
       "    Instrument  Gross Profit, 5 Yr CAGR                  Date\n",
       "  0    1COV.DE                     <NA>  2014-12-31T00:00:00Z\n",
       "  1    1COV.DE                     <NA>  2015-12-31T00:00:00Z\n",
       "  2    1COV.DE                     <NA>  2016-12-31T00:00:00Z\n",
       "  3    1COV.DE                     <NA>  2017-12-31T00:00:00Z\n",
       "  4    1COV.DE                     <NA>  2018-12-31T00:00:00Z\n",
       "  5    1COV.DE                  5.05684  2019-12-31T00:00:00Z\n",
       "  6    1COV.DE                -1.121707  2020-12-31T00:00:00Z\n",
       "  7    1COV.DE                 6.101904  2021-12-31T00:00:00Z,\n",
       "     Instrument  Gross Profit, 5 Yr CAGR                  Date\n",
       "  0      1U1.DE                     <NA>  1999-12-31T00:00:00Z\n",
       "  1      1U1.DE                     <NA>  2000-12-31T00:00:00Z\n",
       "  2      1U1.DE                     <NA>  2001-12-31T00:00:00Z\n",
       "  3      1U1.DE                 3.295215  2002-12-31T00:00:00Z\n",
       "  4      1U1.DE                 9.998282  2003-12-31T00:00:00Z\n",
       "  5      1U1.DE                13.279827  2004-12-31T00:00:00Z\n",
       "  6      1U1.DE                 4.493821  2005-12-31T00:00:00Z\n",
       "  7      1U1.DE                14.997699  2006-12-31T00:00:00Z\n",
       "  8      1U1.DE                25.813796  2007-12-31T00:00:00Z\n",
       "  9      1U1.DE                16.340613  2008-12-31T00:00:00Z\n",
       "  10     1U1.DE                  6.12176  2009-12-31T00:00:00Z\n",
       "  11     1U1.DE                 6.509116  2010-12-31T00:00:00Z\n",
       "  12     1U1.DE                10.293181  2011-12-31T00:00:00Z\n",
       "  13     1U1.DE                 3.422749  2012-12-31T00:00:00Z\n",
       "  14     1U1.DE                 9.162642  2013-12-31T00:00:00Z\n",
       "  15     1U1.DE                 9.173366  2014-12-31T00:00:00Z\n",
       "  16     1U1.DE                  22.4987  2015-12-31T00:00:00Z\n",
       "  17     1U1.DE                21.397746  2016-12-31T00:00:00Z\n",
       "  18     1U1.DE                52.768573  2017-12-31T00:00:00Z\n",
       "  19     1U1.DE                55.609898  2018-12-31T00:00:00Z\n",
       "  20     1U1.DE                50.099638  2019-12-31T00:00:00Z\n",
       "  21     1U1.DE                28.661743  2020-12-31T00:00:00Z\n",
       "  22     1U1.DE                32.809877  2021-12-31T00:00:00Z,\n",
       "    Instrument  Gross Profit, 5 Yr CAGR  Date\n",
       "  0      A2.MI                     <NA>  <NA>,\n",
       "     Instrument  Gross Profit, 5 Yr CAGR                  Date\n",
       "  0      A3M.MC                     <NA>  2000-12-31T00:00:00Z\n",
       "  1      A3M.MC                     <NA>  2001-12-31T00:00:00Z\n",
       "  2      A3M.MC                     <NA>  2002-12-31T00:00:00Z\n",
       "  3      A3M.MC                     <NA>  2003-12-31T00:00:00Z\n",
       "  4      A3M.MC                 6.386719  2004-12-31T00:00:00Z\n",
       "  5      A3M.MC                10.624713  2005-12-31T00:00:00Z\n",
       "  6      A3M.MC                11.557779  2006-12-31T00:00:00Z\n",
       "  7      A3M.MC                11.922061  2007-12-31T00:00:00Z\n",
       "  8      A3M.MC                 2.186986  2008-12-31T00:00:00Z\n",
       "  9      A3M.MC                -6.500505  2009-12-31T00:00:00Z\n",
       "  10     A3M.MC                -7.170298  2010-12-31T00:00:00Z\n",
       "  11     A3M.MC                -9.233427  2011-12-31T00:00:00Z\n",
       "  12     A3M.MC                -13.17371  2012-12-31T00:00:00Z\n",
       "  13     A3M.MC                -4.535398  2013-12-31T00:00:00Z\n",
       "  14     A3M.MC                 2.566993  2014-12-31T00:00:00Z\n",
       "  15     A3M.MC                -1.022463  2015-12-31T00:00:00Z\n",
       "  16     A3M.MC                 3.588307  2016-12-31T00:00:00Z\n",
       "  17     A3M.MC                 9.588438  2017-12-31T00:00:00Z\n",
       "  18     A3M.MC                 5.795742  2018-12-31T00:00:00Z\n",
       "  19     A3M.MC                 3.744055  2019-12-31T00:00:00Z\n",
       "  20     A3M.MC                -1.552123  2020-12-31T00:00:00Z\n",
       "  21     A3M.MC                 0.050309  2021-12-31T00:00:00Z],\n",
       " 'error_test(14)')"
      ]
     },
     "execution_count": 27,
     "metadata": {},
     "output_type": "execute_result"
    }
   ],
   "source": [
    "#llamada para comprobar que funcionan correctamente los parametros\n",
    "vertical_download('error_test',fields_list[1],instruments_list[:5],parameters,dir_fp)"
   ]
  },
  {
   "cell_type": "code",
   "execution_count": 28,
   "metadata": {},
   "outputs": [
    {
     "name": "stdout",
     "output_type": "stream",
     "text": [
      "Downloading GrossProfit3YrCAGR(0)\n"
     ]
    },
    {
     "name": "stderr",
     "output_type": "stream",
     "text": [
      " 45%|████▍     | 817/1825 [12:32<17:16,  1.03s/it]  2023-05-30 15:01:34,997 P[13816] [MainThread 7672] Backend error. 400 Bad Request\n",
      "2023-05-30 15:01:34,999 P[13816] [MainThread 7672] HTTP request failed: EikonError-Backend error. 400 Bad Request\n",
      " 68%|██████▊   | 1249/1825 [19:13<08:17,  1.16it/s] 2023-05-30 15:08:15,484 P[13816] [MainThread 7672] Backend error. 400 Bad Request\n",
      "2023-05-30 15:08:15,485 P[13816] [MainThread 7672] HTTP request failed: EikonError-Backend error. 400 Bad Request\n",
      " 68%|██████▊   | 1250/1825 [19:31<57:59,  6.05s/it]2023-05-30 15:08:33,755 P[13816] [MainThread 7672] Backend error. 400 Bad Request\n",
      "2023-05-30 15:08:33,759 P[13816] [MainThread 7672] HTTP request failed: EikonError-Backend error. 400 Bad Request\n",
      "100%|██████████| 1825/1825 [27:54<00:00,  1.09it/s]  \n"
     ]
    },
    {
     "name": "stdout",
     "output_type": "stream",
     "text": [
      "Retrying fails:\n"
     ]
    },
    {
     "name": "stderr",
     "output_type": "stream",
     "text": [
      "100%|██████████| 113/113 [01:06<00:00,  1.70it/s]\n"
     ]
    },
    {
     "name": "stdout",
     "output_type": "stream",
     "text": [
      "Failed twice for: 110\n",
      "['ABBPa.ST^G99', 'ABBPb.ST^G99', 'ADR.MI^C01', 'AFAr.AT^D01', 'AGAa.ST^D00', 'AGAb.ST^D00', 'AGR.MC^J00', 'ALUSn.S^E01', 'ASDO.ST^A02', 'ASRNc.AS^I01', 'AVES.ST^B01', 'BCMI.MI^E01', 'BDROir.ST^F04', 'BEA.OL^H03', 'BEB.OL^H03', 'BHM.L^I04', 'BIZZ.S^A01', 'BPAN.IN^G00', 'BPSN.IN^L00', 'BRE.L^D11', 'BRYN.L^D01', 'BZR.L^D01', 'CBUI.MI^H00', 'CCB.L^H00', 'CKR.OL^A01', 'CMOD.PA^E99', 'CRI.MC^L01', 'CSC.L^A01', 'CTE.MC^I00', 'CUL2V.HE^J99', 'CWZ.L^E00', 'DAIG.F^L98', 'DDPN.AS^L02', 'DEXF.PA^C00', 'DINr.AT^F01', 'DYN.OL^J00', 'EMOL.AS^I00', 'ERGr.AT^I00', 'FBSP.PA^F01', 'FLXT.L^E00', 'FOK.OL^F99', 'FTA.I^A04', 'GME.L^B01', 'GTME.PA^G01', 'GUIL.PA^G00', 'GZEX.PA^E01', 'HEPEV.HE^G00', 'IIG.L^A02', 'INPA.IN^I99', 'IONr.AT^D00', 'ISOr.AT^A02', 'LABA.PA^I00', 'LEGP.PA^J03', 'LMYG.F^B00', 'LPRT.L^D01', 'MERIa.HE^K98', 'MMAI.MI^G00', 'MNCF.LS^K00', 'MONI.L^E03', 'MTA1V.HE^C00', 'NCL.OL^L00', 'NMBr.AT^J98', 'NRJP.PA^J02', 'NTC.OL^J00', 'PARI.PA^A00', 'PATP.PA^A02', 'PDRP.PA^A02', 'PER.L^C01', 'PERSb.ST^G01', 'PMLP.PA^H01', 'PMOD.PA^I00', 'PRMG.PA^L99', 'PRX.OL^I00', 'PUBF.PA^H00', 'RATNa.CO^G00', 'RATNb.CO^G00', 'SAG.OL^H99', 'SAGB.OL^I98', 'SAPG_p.DE^F01', 'SAPG_p.F^F01', 'SASD.CO^I01', 'SDPVa.VI^L98', 'SEFF.PA^D00', 'SEIT.PA^A03', 'SFSC.CO^L99', 'SIMP.PA^C04', 'SITA.PA^A00', 'SLP.L^G00', 'SMAP.PA^A02', 'SOFP.PA^E99', 'SOPP.IN^F01', 'STORa.ST^B99', 'SVDA.ST^J01', 'SYDa.ST^J01', 'SYDc.ST^J01', 'TESI.MI^L00', 'TRV.L^I00', 'UAFF.PA^G00', 'UAG.L^H00', 'UBIS.L^F00', 'ULS.OL^F99', 'UNI.CO^F00', 'UNIC.IN^E00', 'UNIM.MI^D00', 'VCP.MC^L99', 'VIAG.DE^F00', 'VIAG.F^F00', 'WDON.AS^A01', 'WWH.L^J00', 'XIOr.AT^F00']\n",
      "\n",
      "Downloading GrossProfit5YrCAGR\n"
     ]
    },
    {
     "name": "stderr",
     "output_type": "stream",
     "text": [
      " 24%|██▍       | 444/1825 [06:15<18:03,  1.27it/s]2023-05-30 15:24:26,408 P[13816] [MainThread 7672] Backend error. 400 Bad Request\n",
      "2023-05-30 15:24:26,409 P[13816] [MainThread 7672] HTTP request failed: EikonError-Backend error. 400 Bad Request\n",
      " 25%|██▍       | 455/1825 [06:42<21:53,  1.04it/s]  2023-05-30 15:24:53,323 P[13816] [MainThread 7672] Backend error. 400 Bad Request\n",
      "2023-05-30 15:24:53,324 P[13816] [MainThread 7672] HTTP request failed: EikonError-Backend error. 400 Bad Request\n",
      " 37%|███▋      | 675/1825 [10:06<16:39,  1.15it/s]  2023-05-30 15:28:17,197 P[13816] [MainThread 7672] Backend error. 400 Bad Request\n",
      "2023-05-30 15:28:17,199 P[13816] [MainThread 7672] HTTP request failed: EikonError-Backend error. 400 Bad Request\n",
      " 37%|███▋      | 678/1825 [10:26<1:04:31,  3.38s/it]2023-05-30 15:28:36,981 P[13816] [MainThread 7672] Backend error. 400 Bad Request\n",
      "2023-05-30 15:28:36,982 P[13816] [MainThread 7672] HTTP request failed: EikonError-Backend error. 400 Bad Request\n",
      " 37%|███▋      | 679/1825 [10:44<2:29:17,  7.82s/it]2023-05-30 15:28:55,234 P[13816] [MainThread 7672] Backend error. 400 Bad Request\n",
      "2023-05-30 15:28:55,235 P[13816] [MainThread 7672] HTTP request failed: EikonError-Backend error. 400 Bad Request\n",
      " 43%|████▎     | 785/1825 [12:40<12:09,  1.43it/s]  2023-05-30 15:30:50,928 P[13816] [MainThread 7672] Backend error. 400 Bad Request\n",
      "2023-05-30 15:30:50,930 P[13816] [MainThread 7672] HTTP request failed: EikonError-Backend error. 400 Bad Request\n",
      " 65%|██████▍   | 1183/1825 [20:30<09:25,  1.13it/s]  2023-05-30 15:38:41,078 P[13816] [MainThread 7672] Backend error. 400 Bad Request\n",
      "2023-05-30 15:38:41,079 P[13816] [MainThread 7672] HTTP request failed: EikonError-Backend error. 400 Bad Request\n",
      " 65%|██████▍   | 1184/1825 [20:48<1:05:05,  6.09s/it]2023-05-30 15:38:59,340 P[13816] [MainThread 7672] Backend error. 400 Bad Request\n",
      "2023-05-30 15:38:59,341 P[13816] [MainThread 7672] HTTP request failed: EikonError-Backend error. 400 Bad Request\n",
      " 65%|██████▍   | 1185/1825 [21:06<1:43:56,  9.74s/it]2023-05-30 15:39:17,492 P[13816] [MainThread 7672] Backend error. 400 Bad Request\n",
      "2023-05-30 15:39:17,493 P[13816] [MainThread 7672] HTTP request failed: EikonError-Backend error. 400 Bad Request\n",
      " 65%|██████▌   | 1187/1825 [21:25<1:34:03,  8.85s/it]2023-05-30 15:39:36,518 P[13816] [MainThread 7672] Backend error. 400 Bad Request\n",
      "2023-05-30 15:39:36,520 P[13816] [MainThread 7672] HTTP request failed: EikonError-Backend error. 400 Bad Request\n",
      "100%|██████████| 1825/1825 [32:12<00:00,  1.06s/it]  \n"
     ]
    },
    {
     "name": "stdout",
     "output_type": "stream",
     "text": [
      "Retrying fails:\n"
     ]
    },
    {
     "name": "stderr",
     "output_type": "stream",
     "text": [
      "100%|██████████| 119/119 [01:19<00:00,  1.49it/s]\n"
     ]
    },
    {
     "name": "stdout",
     "output_type": "stream",
     "text": [
      "Failed twice for: 110\n",
      "['ABBPa.ST^G99', 'ABBPb.ST^G99', 'ADR.MI^C01', 'AFAr.AT^D01', 'AGAa.ST^D00', 'AGAb.ST^D00', 'AGR.MC^J00', 'ALUSn.S^E01', 'ASDO.ST^A02', 'ASRNc.AS^I01', 'AVES.ST^B01', 'BCMI.MI^E01', 'BDROir.ST^F04', 'BEA.OL^H03', 'BEB.OL^H03', 'BHM.L^I04', 'BIZZ.S^A01', 'BPAN.IN^G00', 'BPSN.IN^L00', 'BRE.L^D11', 'BRYN.L^D01', 'BZR.L^D01', 'CBUI.MI^H00', 'CCB.L^H00', 'CKR.OL^A01', 'CMOD.PA^E99', 'CRI.MC^L01', 'CSC.L^A01', 'CTE.MC^I00', 'CUL2V.HE^J99', 'CWZ.L^E00', 'DAIG.F^L98', 'DDPN.AS^L02', 'DEXF.PA^C00', 'DINr.AT^F01', 'DYN.OL^J00', 'EMOL.AS^I00', 'ERGr.AT^I00', 'FBSP.PA^F01', 'FLXT.L^E00', 'FOK.OL^F99', 'FTA.I^A04', 'GME.L^B01', 'GTME.PA^G01', 'GUIL.PA^G00', 'GZEX.PA^E01', 'HEPEV.HE^G00', 'IIG.L^A02', 'INPA.IN^I99', 'IONr.AT^D00', 'ISOr.AT^A02', 'LABA.PA^I00', 'LEGP.PA^J03', 'LMYG.F^B00', 'LPRT.L^D01', 'MERIa.HE^K98', 'MMAI.MI^G00', 'MNCF.LS^K00', 'MONI.L^E03', 'MTA1V.HE^C00', 'NCL.OL^L00', 'NMBr.AT^J98', 'NRJP.PA^J02', 'NTC.OL^J00', 'PARI.PA^A00', 'PATP.PA^A02', 'PDRP.PA^A02', 'PER.L^C01', 'PERSb.ST^G01', 'PMLP.PA^H01', 'PMOD.PA^I00', 'PRMG.PA^L99', 'PRX.OL^I00', 'PUBF.PA^H00', 'RATNa.CO^G00', 'RATNb.CO^G00', 'SAG.OL^H99', 'SAGB.OL^I98', 'SAPG_p.DE^F01', 'SAPG_p.F^F01', 'SASD.CO^I01', 'SDPVa.VI^L98', 'SEFF.PA^D00', 'SEIT.PA^A03', 'SFSC.CO^L99', 'SIMP.PA^C04', 'SITA.PA^A00', 'SLP.L^G00', 'SMAP.PA^A02', 'SOFP.PA^E99', 'SOPP.IN^F01', 'STORa.ST^B99', 'SVDA.ST^J01', 'SYDa.ST^J01', 'SYDc.ST^J01', 'TESI.MI^L00', 'TRV.L^I00', 'UAFF.PA^G00', 'UAG.L^H00', 'UBIS.L^F00', 'ULS.OL^F99', 'UNI.CO^F00', 'UNIC.IN^E00', 'UNIM.MI^D00', 'VCP.MC^L99', 'VIAG.DE^F00', 'VIAG.F^F00', 'WDON.AS^A01', 'WWH.L^J00', 'XIOr.AT^F00']\n",
      "\n"
     ]
    },
    {
     "data": {
      "text/plain": [
       "{'GrossProfit3YrCAGR':              1COV.DE    1U1.DE    A3M.MC  AAAA.L^C21    AAK.ST      AAL.L  \\\n",
       " 2000-01-31       NaN       NaN       NaN         NaN       NaN        NaN   \n",
       " 2000-02-29       NaN       NaN       NaN         NaN       NaN        NaN   \n",
       " 2000-03-31       NaN       NaN       NaN         NaN       NaN        NaN   \n",
       " 2000-04-30       NaN       NaN       NaN         NaN       NaN        NaN   \n",
       " 2000-05-31       NaN       NaN       NaN         NaN       NaN        NaN   \n",
       " ...              ...       ...       ...         ...       ...        ...   \n",
       " 2022-08-31 -1.953625  1.587981  0.566007    0.911211  4.126853  31.300805   \n",
       " 2022-09-30 -1.953625  1.587981  0.566007    0.911211  4.126853  31.300805   \n",
       " 2022-10-31 -1.953625  1.587981  0.566007    0.911211  4.126853  31.300805   \n",
       " 2022-11-30 -1.953625  1.587981  0.566007    0.911211  4.126853  31.300805   \n",
       " 2022-12-31 -1.953625  1.587981  0.566007    0.911211  4.126853  31.300805   \n",
       " \n",
       "             AALB.AS  AB.L^G07    ABBN.S  ABBZa.S^K99  ...  XTA.L^E13  \\\n",
       " 2000-01-31      NaN       NaN       NaN          NaN  ...        NaN   \n",
       " 2000-02-29      NaN       NaN       NaN          NaN  ...        NaN   \n",
       " 2000-03-31      NaN  3.748483       NaN          NaN  ...        NaN   \n",
       " 2000-04-30      NaN  3.748483       NaN          NaN  ...        NaN   \n",
       " 2000-05-31      NaN  3.748483       NaN          NaN  ...        NaN   \n",
       " ...             ...       ...       ...          ...  ...        ...   \n",
       " 2022-08-31  2.56412       NaN  3.498912     3.498912  ...        NaN   \n",
       " 2022-09-30  2.56412       NaN  3.498912     3.498912  ...        NaN   \n",
       " 2022-10-31  2.56412       NaN  3.498912     3.498912  ...        NaN   \n",
       " 2022-11-30  2.56412       NaN  3.498912     3.498912  ...        NaN   \n",
       " 2022-12-31  2.56412       NaN  3.498912     3.498912  ...        NaN   \n",
       " \n",
       "                YAR.OL     YIT.HE    YSO.LS    ZALG.DE  ZEL.MC^K15  \\\n",
       " 2000-01-31        NaN        NaN       NaN        NaN         NaN   \n",
       " 2000-02-29        NaN        NaN       NaN        NaN         NaN   \n",
       " 2000-03-31        NaN        NaN       NaN        NaN         NaN   \n",
       " 2000-04-30        NaN        NaN       NaN        NaN         NaN   \n",
       " 2000-05-31        NaN        NaN       NaN        NaN         NaN   \n",
       " ...               ...        ...       ...        ...         ...   \n",
       " 2022-08-31  14.625062 -10.586983  4.661058  23.785574         NaN   \n",
       " 2022-09-30  14.625062 -10.586983  4.661058  23.785574         NaN   \n",
       " 2022-10-31  14.625062 -10.586983  4.661058  23.785574         NaN   \n",
       " 2022-11-30  14.625062 -10.586983  4.661058  23.785574         NaN   \n",
       " 2022-12-31  14.625062 -10.586983  4.661058  23.785574         NaN   \n",
       " \n",
       "             ZIGGO.AS^L14  ZO1G.DE^A22  ZODC.PA^C18  ZOT.MC^E22  \n",
       " 2000-01-31           NaN          NaN          NaN         NaN  \n",
       " 2000-02-29           NaN          NaN          NaN         NaN  \n",
       " 2000-03-31           NaN          NaN          NaN         NaN  \n",
       " 2000-04-30           NaN          NaN          NaN         NaN  \n",
       " 2000-05-31           NaN          NaN          NaN         NaN  \n",
       " ...                  ...          ...          ...         ...  \n",
       " 2022-08-31           NaN          NaN          NaN     1.06085  \n",
       " 2022-09-30           NaN          NaN          NaN     1.06085  \n",
       " 2022-10-31           NaN          NaN          NaN     1.06085  \n",
       " 2022-11-30           NaN          NaN          NaN     1.06085  \n",
       " 2022-12-31           NaN          NaN          NaN         NaN  \n",
       " \n",
       " [276 rows x 1378 columns],\n",
       " 'GrossProfit5YrCAGR':              1COV.DE     1U1.DE    A3M.MC  AAAA.L^C21    AAK.ST      AAL.L  \\\n",
       " 2000-01-31       NaN        NaN       NaN         NaN       NaN        NaN   \n",
       " 2000-02-29       NaN        NaN       NaN         NaN       NaN        NaN   \n",
       " 2000-03-31       NaN        NaN       NaN         NaN       NaN        NaN   \n",
       " 2000-04-30       NaN        NaN       NaN         NaN       NaN        NaN   \n",
       " 2000-05-31       NaN        NaN       NaN         NaN       NaN        NaN   \n",
       " ...              ...        ...       ...         ...       ...        ...   \n",
       " 2022-08-31  6.101904  32.809877  0.050309   -0.100368  6.369622  32.887625   \n",
       " 2022-09-30  6.101904  32.809877  0.050309   -0.100368  6.369622  32.887625   \n",
       " 2022-10-31  6.101904  32.809877  0.050309   -0.100368  6.369622  32.887625   \n",
       " 2022-11-30  6.101904  32.809877  0.050309   -0.100368  6.369622  32.887625   \n",
       " 2022-12-31  6.101904  32.809877  0.050309   -0.100368  6.369622  32.887625   \n",
       " \n",
       "              AALB.AS  AB.L^G07    ABBN.S  ABBZa.S^K99  ...  XAN.L^J07  \\\n",
       " 2000-01-31       NaN       NaN       NaN          NaN  ...        NaN   \n",
       " 2000-02-29       NaN       NaN       NaN          NaN  ...        NaN   \n",
       " 2000-03-31       NaN  3.158184       NaN          NaN  ...        NaN   \n",
       " 2000-04-30       NaN  3.158184       NaN          NaN  ...  48.740511   \n",
       " 2000-05-31       NaN  3.158184       NaN          NaN  ...  48.740511   \n",
       " ...              ...       ...       ...          ...  ...        ...   \n",
       " 2022-08-31  3.537389       NaN  4.799598     4.799598  ...        NaN   \n",
       " 2022-09-30  3.537389       NaN  4.799598     4.799598  ...        NaN   \n",
       " 2022-10-31  3.537389       NaN  4.799598     4.799598  ...        NaN   \n",
       " 2022-11-30  3.537389       NaN  4.799598     4.799598  ...        NaN   \n",
       " 2022-12-31  3.537389       NaN  4.799598     4.799598  ...        NaN   \n",
       " \n",
       "             XTA.L^E13    YAR.OL    YIT.HE     YSO.LS    ZALG.DE  ZEL.MC^K15  \\\n",
       " 2000-01-31        NaN       NaN       NaN        NaN        NaN         NaN   \n",
       " 2000-02-29        NaN       NaN       NaN        NaN        NaN         NaN   \n",
       " 2000-03-31        NaN       NaN       NaN        NaN        NaN         NaN   \n",
       " 2000-04-30        NaN       NaN       NaN        NaN        NaN         NaN   \n",
       " 2000-05-31        NaN       NaN       NaN        NaN        NaN         NaN   \n",
       " ...               ...       ...       ...        ...        ...         ...   \n",
       " 2022-08-31        NaN  7.976873  3.500685  30.789829  21.868237         NaN   \n",
       " 2022-09-30        NaN  7.976873  3.500685  30.789829  21.868237         NaN   \n",
       " 2022-10-31        NaN  7.976873  3.500685  30.789829  21.868237         NaN   \n",
       " 2022-11-30        NaN  7.976873  3.500685  30.789829  21.868237         NaN   \n",
       " 2022-12-31        NaN  7.976873  3.500685  30.789829  21.868237         NaN   \n",
       " \n",
       "             ZO1G.DE^A22  ZODC.PA^C18  ZOT.MC^E22  \n",
       " 2000-01-31          NaN          NaN         NaN  \n",
       " 2000-02-29          NaN          NaN         NaN  \n",
       " 2000-03-31          NaN          NaN         NaN  \n",
       " 2000-04-30          NaN          NaN         NaN  \n",
       " 2000-05-31          NaN          NaN         NaN  \n",
       " ...                 ...          ...         ...  \n",
       " 2022-08-31          NaN          NaN    0.705679  \n",
       " 2022-09-30          NaN          NaN    0.705679  \n",
       " 2022-10-31          NaN          NaN    0.705679  \n",
       " 2022-11-30          NaN          NaN    0.705679  \n",
       " 2022-12-31          NaN          NaN         NaN  \n",
       " \n",
       " [276 rows x 1308 columns]}"
      ]
     },
     "execution_count": 28,
     "metadata": {},
     "output_type": "execute_result"
    }
   ],
   "source": [
    "#from time import sleep; sleep(32272)\n",
    "download_indicators(fields_list,instruments_list,parameters,dir_fp)"
   ]
  },
  {
   "cell_type": "code",
   "execution_count": 9,
   "metadata": {},
   "outputs": [
    {
     "name": "stdout",
     "output_type": "stream",
     "text": [
      "Downloading EPSMean\n"
     ]
    },
    {
     "name": "stderr",
     "output_type": "stream",
     "text": [
      "100%|██████████| 45/45 [02:07<00:00,  2.84s/it]\n"
     ]
    }
   ],
   "source": [
    "path_to_continue = r'C:\\Users\\hugo.perezdealbeniz\\Documents\\GitHub\\ranking_DIP_european_equities\\eikon_data_retrieval\\data\\error_test(8)\\raw_data'\n",
    "continue_download(field_function=fields_list[0],raw_data_dir_fp=path_to_continue,full_instruments_list=instruments_list,parameters=parameters)"
   ]
  }
 ],
 "metadata": {
  "kernelspec": {
   "display_name": "Python 3",
   "language": "python",
   "name": "python3"
  },
  "language_info": {
   "codemirror_mode": {
    "name": "ipython",
    "version": 3
   },
   "file_extension": ".py",
   "mimetype": "text/x-python",
   "name": "python",
   "nbconvert_exporter": "python",
   "pygments_lexer": "ipython3",
   "version": "3.10.9"
  },
  "orig_nbformat": 4
 },
 "nbformat": 4,
 "nbformat_minor": 2
}
