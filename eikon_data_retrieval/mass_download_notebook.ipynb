{
 "cells": [
  {
   "cell_type": "code",
   "execution_count": 2,
   "metadata": {},
   "outputs": [],
   "source": [
    "%load_ext autoreload\n",
    "%autoreload 2"
   ]
  },
  {
   "cell_type": "code",
   "execution_count": 3,
   "metadata": {},
   "outputs": [],
   "source": [
    "import warnings\n",
    "warnings.filterwarnings('ignore')"
   ]
  },
  {
   "cell_type": "code",
   "execution_count": 4,
   "metadata": {},
   "outputs": [],
   "source": [
    "import eikon as ek\n",
    "import pandas as pd\n",
    "import json\n",
    "from data_retrieval import vertical_download, reconstruction, download_indicators, dfs_list_from_dir"
   ]
  },
  {
   "cell_type": "code",
   "execution_count": 5,
   "metadata": {},
   "outputs": [],
   "source": [
    "#lectura de fichero .json con la lista de tickers del stoxx 600\n",
    "with open(r'Z:\\Interés Departamental\\Model Portfolio\\Hugo\\pruebas eikon ruben/stoxx600_constituents_list.json','r') as file:\n",
    "    constituents_list = json.load(file)"
   ]
  },
  {
   "cell_type": "code",
   "execution_count": 6,
   "metadata": {},
   "outputs": [
    {
     "data": {
      "text/plain": [
       "1825"
      ]
     },
     "execution_count": 6,
     "metadata": {},
     "output_type": "execute_result"
    }
   ],
   "source": [
    "len(constituents_list)"
   ]
  },
  {
   "cell_type": "code",
   "execution_count": 7,
   "metadata": {},
   "outputs": [],
   "source": [
    "#lista de instrumentos deseados\n",
    "instruments_list = constituents_list#[:50]\n",
    "#las funciones de eikon a descargar\n",
    "fields_list = ['TR.EBITDA',\n",
    "               #'TR.intexpensenetnonoper'\n",
    "               ]\n",
    "#parametros de la funcion\n",
    "parameters = {'SDate':'2000-01-01','EDate':'2023-01-01','Frq':'FQ','Period':'FI0','Curn':'EUR'}\n",
    "#directorio en el que guardar los datos\n",
    "dir_fp = r'C:\\Users\\hugo.perezdealbeniz\\Documents\\GitHub\\ranking_DIP_european_equities\\eikon_data_retrieval\\data'"
   ]
  },
  {
   "cell_type": "code",
   "execution_count": 8,
   "metadata": {},
   "outputs": [],
   "source": [
    "#llamada para comprobar que funcionan correctamente los parametros\n",
    "#vertical_download('error_test',fields_list[0],instruments_list[:5],parameters)"
   ]
  },
  {
   "cell_type": "code",
   "execution_count": null,
   "metadata": {},
   "outputs": [],
   "source": [
    "#from time import sleep; sleep(32272)\n",
    "download_indicators(fields_list,instruments_list,parameters,dir_fp)"
   ]
  }
 ],
 "metadata": {
  "kernelspec": {
   "display_name": "Python 3",
   "language": "python",
   "name": "python3"
  },
  "language_info": {
   "codemirror_mode": {
    "name": "ipython",
    "version": 3
   },
   "file_extension": ".py",
   "mimetype": "text/x-python",
   "name": "python",
   "nbconvert_exporter": "python",
   "pygments_lexer": "ipython3",
   "version": "3.10.9"
  },
  "orig_nbformat": 4
 },
 "nbformat": 4,
 "nbformat_minor": 2
}
