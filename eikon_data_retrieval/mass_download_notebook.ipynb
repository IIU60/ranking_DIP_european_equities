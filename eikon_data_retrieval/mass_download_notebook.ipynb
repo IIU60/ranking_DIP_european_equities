{
 "cells": [
  {
   "cell_type": "code",
   "execution_count": 1,
   "metadata": {},
   "outputs": [],
   "source": [
    "%load_ext autoreload\n",
    "%autoreload 2"
   ]
  },
  {
   "cell_type": "code",
   "execution_count": 2,
   "metadata": {},
   "outputs": [],
   "source": [
    "import warnings\n",
    "warnings.filterwarnings('ignore')"
   ]
  },
  {
   "cell_type": "code",
   "execution_count": 3,
   "metadata": {},
   "outputs": [],
   "source": [
    "import eikon as ek\n",
    "import pandas as pd\n",
    "import json\n",
    "from data_retrieval import vertical_download, reconstruction, download_indicators, dfs_list_from_dir"
   ]
  },
  {
   "cell_type": "code",
   "execution_count": 4,
   "metadata": {},
   "outputs": [],
   "source": [
    "#lectura de fichero .json con la lista de tickers del stoxx 600\n",
    "with open(r'Z:\\Interés Departamental\\Model Portfolio\\Hugo\\pruebas eikon ruben/stoxx600_constituents_list.json','r') as file:\n",
    "    constituents_list = json.load(file)"
   ]
  },
  {
   "cell_type": "code",
   "execution_count": 5,
   "metadata": {},
   "outputs": [
    {
     "data": {
      "text/plain": [
       "1825"
      ]
     },
     "execution_count": 5,
     "metadata": {},
     "output_type": "execute_result"
    }
   ],
   "source": [
    "len(constituents_list)"
   ]
  },
  {
   "cell_type": "code",
   "execution_count": 6,
   "metadata": {},
   "outputs": [],
   "source": [
    "#lista de instrumentos deseados\n",
    "instruments_list = constituents_list#[:50]\n",
    "#las funciones de eikon a descargar\n",
    "fields_list = ['TR.EPSMean',\n",
    "               #'TR.intexpensenetnonoper'\n",
    "               ]\n",
    "#parametros de la funcion\n",
    "parameters = {'SDate':'2000-01-01','EDate':'2023-01-01','Frq':'FQ','Period':'FQ0','Curn':'EUR'}\n",
    "#directorio en el que guardar los datos\n",
    "dir_fp = r'C:\\Users\\hugo.perezdealbeniz\\Documents\\GitHub\\ranking_DIP_european_equities\\eikon_data_retrieval\\data'"
   ]
  },
  {
   "cell_type": "code",
   "execution_count": 9,
   "metadata": {},
   "outputs": [
    {
     "name": "stdout",
     "output_type": "stream",
     "text": [
      "Downloading error_test(0)\n"
     ]
    },
    {
     "name": "stderr",
     "output_type": "stream",
     "text": [
      "100%|██████████| 5/5 [00:12<00:00,  2.47s/it]\n"
     ]
    },
    {
     "name": "stdout",
     "output_type": "stream",
     "text": [
      "Retrying fails:\n"
     ]
    },
    {
     "name": "stderr",
     "output_type": "stream",
     "text": [
      "0it [00:00, ?it/s]"
     ]
    },
    {
     "name": "stdout",
     "output_type": "stream",
     "text": [
      "Failed twice for:\n",
      " []\n"
     ]
    },
    {
     "name": "stderr",
     "output_type": "stream",
     "text": [
      "\n"
     ]
    },
    {
     "data": {
      "text/plain": [
       "[  Instrument  Earnings Per Share - Mean  Date\n",
       " 0      III.L                       <NA>  <NA>,\n",
       "    Instrument  Earnings Per Share - Mean                  Date\n",
       " 0     1COV.DE                       <NA>                      \n",
       " 1     1COV.DE                       <NA>                      \n",
       " 2     1COV.DE                       <NA>                      \n",
       " 3     1COV.DE                       <NA>                      \n",
       " 4     1COV.DE                       0.07  2016-01-26T00:00:00Z\n",
       " 5     1COV.DE                     0.7495  2016-04-18T00:00:00Z\n",
       " 6     1COV.DE                     1.0008  2016-07-14T00:00:00Z\n",
       " 7     1COV.DE                     0.9682  2016-10-11T00:00:00Z\n",
       " 8     1COV.DE                    0.37333  2017-02-13T00:00:00Z\n",
       " 9     1COV.DE                    1.84563  2017-04-20T00:00:00Z\n",
       " 10    1COV.DE                     1.9847  2017-07-21T00:00:00Z\n",
       " 11    1COV.DE                        2.1  2017-10-23T00:00:00Z\n",
       " 12    1COV.DE                    2.13156  2018-02-16T00:00:00Z\n",
       " 13    1COV.DE                    3.05925  2018-04-20T00:00:00Z\n",
       " 14    1COV.DE                    2.98067  2018-07-19T00:00:00Z\n",
       " 15    1COV.DE                      2.511  2018-10-18T00:00:00Z\n",
       " 16    1COV.DE                      0.585  2019-01-27T00:00:00Z\n",
       " 17    1COV.DE                     0.9554  2019-04-26T00:00:00Z\n",
       " 18    1COV.DE                    0.97529  2019-07-20T00:00:00Z\n",
       " 19    1COV.DE                     0.7831  2019-10-25T00:00:00Z\n",
       " 20    1COV.DE                      0.185  2020-02-19T00:00:00Z\n",
       " 21    1COV.DE                    0.10833  2020-04-28T00:00:00Z\n",
       " 22    1COV.DE                   -0.52522  2020-07-09T00:00:00Z\n",
       " 23    1COV.DE                    0.60913  2020-10-07T00:00:00Z\n",
       " 24    1COV.DE                    1.62083  2021-02-01T00:00:00Z\n",
       " 25    1COV.DE                    1.98729  2021-04-27T00:00:00Z\n",
       " 26    1COV.DE                     2.2995  2021-07-19T00:00:00Z\n",
       " 27    1COV.DE                      2.282  2021-11-08T00:00:00Z\n",
       " 28    1COV.DE                    1.70429  2022-03-01T00:00:00Z\n",
       " 29    1COV.DE                     1.9212  2022-04-20T00:00:00Z\n",
       " 30    1COV.DE                      1.076  2022-08-01T00:00:00Z\n",
       " 31    1COV.DE                       0.22  2022-10-21T00:00:00Z,\n",
       "    Instrument  Earnings Per Share - Mean                  Date\n",
       " 0      1U1.DE                       <NA>                      \n",
       " 1      1U1.DE                       <NA>                      \n",
       " 2      1U1.DE                       <NA>                      \n",
       " 3      1U1.DE                       <NA>                      \n",
       " 4      1U1.DE                       <NA>                      \n",
       " ..        ...                        ...                   ...\n",
       " 74     1U1.DE                      0.446  2021-10-30T00:00:00Z\n",
       " 75     1U1.DE                      0.482  2022-01-12T00:00:00Z\n",
       " 76     1U1.DE                     0.5045  2022-05-09T00:00:00Z\n",
       " 77     1U1.DE                      0.501  2022-07-27T00:00:00Z\n",
       " 78     1U1.DE                    0.49667  2022-11-04T00:00:00Z\n",
       " \n",
       " [79 rows x 3 columns],\n",
       "    Instrument  Earnings Per Share - Mean Date\n",
       " 0       A2.MI                       <NA>     \n",
       " 1       A2.MI                       <NA>     \n",
       " 2       A2.MI                       <NA>     \n",
       " 3       A2.MI                       <NA>     \n",
       " 4       A2.MI                       <NA>     \n",
       " ..        ...                        ...  ...\n",
       " 75      A2.MI                       <NA>     \n",
       " 76      A2.MI                       <NA>     \n",
       " 77      A2.MI                       <NA>     \n",
       " 78      A2.MI                       <NA>     \n",
       " 79      A2.MI                       <NA>     \n",
       " \n",
       " [80 rows x 3 columns],\n",
       "    Instrument  Earnings Per Share - Mean                  Date\n",
       " 0      A3M.MC                       <NA>                      \n",
       " 1      A3M.MC                       <NA>                      \n",
       " 2      A3M.MC                       <NA>                      \n",
       " 3      A3M.MC                    0.17849  2004-07-15T00:00:00Z\n",
       " 4      A3M.MC                    0.03815  2004-10-22T00:00:00Z\n",
       " ..        ...                        ...                   ...\n",
       " 72     A3M.MC                      0.126  2021-07-30T00:00:00Z\n",
       " 73     A3M.MC                      0.137  2022-01-27T00:00:00Z\n",
       " 74     A3M.MC                      0.131  2022-02-25T00:00:00Z\n",
       " 75     A3M.MC                      0.131  2022-07-20T00:00:00Z\n",
       " 76     A3M.MC                      0.105  2022-10-19T00:00:00Z\n",
       " \n",
       " [77 rows x 3 columns]]"
      ]
     },
     "execution_count": 9,
     "metadata": {},
     "output_type": "execute_result"
    }
   ],
   "source": [
    "#llamada para comprobar que funcionan correctamente los parametros\n",
    "vertical_download('error_test',fields_list[0],instruments_list[:5],parameters,dir_fp)"
   ]
  },
  {
   "cell_type": "code",
   "execution_count": 10,
   "metadata": {},
   "outputs": [
    {
     "name": "stdout",
     "output_type": "stream",
     "text": [
      "Downloading EPSMean\n"
     ]
    },
    {
     "name": "stderr",
     "output_type": "stream",
     "text": [
      "  1%|          | 13/1825 [00:28<1:06:58,  2.22s/it]2023-05-24 15:06:03,546 P[21232] [MainThread 22572] Error code 518 | Server Error: Server Side Timeout - Do Not Resubmit\n",
      "2023-05-24 15:06:03,547 P[21232] [MainThread 22572] HTTP request failed: EikonError-Server Error: Server Side Timeout - Do Not Resubmit\n",
      "  1%|▏         | 26/1825 [01:25<1:11:19,  2.38s/it]"
     ]
    }
   ],
   "source": [
    "#from time import sleep; sleep(32272)\n",
    "download_indicators(fields_list,instruments_list,parameters,dir_fp)"
   ]
  }
 ],
 "metadata": {
  "kernelspec": {
   "display_name": "Python 3",
   "language": "python",
   "name": "python3"
  },
  "language_info": {
   "codemirror_mode": {
    "name": "ipython",
    "version": 3
   },
   "file_extension": ".py",
   "mimetype": "text/x-python",
   "name": "python",
   "nbconvert_exporter": "python",
   "pygments_lexer": "ipython3",
   "version": "3.10.9"
  },
  "orig_nbformat": 4
 },
 "nbformat": 4,
 "nbformat_minor": 2
}
