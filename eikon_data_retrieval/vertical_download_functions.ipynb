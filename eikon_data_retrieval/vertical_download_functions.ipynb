{
 "cells": [
  {
   "cell_type": "code",
   "execution_count": 1,
   "metadata": {},
   "outputs": [],
   "source": [
    "%load_ext autoreload\n",
    "%autoreload 2"
   ]
  },
  {
   "cell_type": "code",
   "execution_count": 2,
   "metadata": {},
   "outputs": [],
   "source": [
    "import eikon as ek\n",
    "import pandas as pd\n",
    "import os\n",
    "import json\n",
    "from data_retrieval import vertical_download, reconstruction, download_indicators, dfs_list_from_dir"
   ]
  },
  {
   "cell_type": "code",
   "execution_count": 3,
   "metadata": {},
   "outputs": [],
   "source": [
    "with open('data/stoxx600_constituents_list.json','r') as file:\n",
    "    constituents_list = json.load(file)"
   ]
  },
  {
   "cell_type": "code",
   "execution_count": 4,
   "metadata": {},
   "outputs": [
    {
     "data": {
      "text/plain": [
       "1825"
      ]
     },
     "execution_count": 4,
     "metadata": {},
     "output_type": "execute_result"
    }
   ],
   "source": [
    "len(constituents_list)"
   ]
  },
  {
   "cell_type": "code",
   "execution_count": 5,
   "metadata": {},
   "outputs": [],
   "source": [
    "instruments_list = constituents_list[:5]\n",
    "#las funciones de eikon a descargar\n",
    "fields_list = [#'TR.EBITDA',\n",
    "               'TR.intexpensenetnonoper']\n",
    "#parametros de la funcion\n",
    "parameters = {'SDate':'2000-01-01','EDate':'2023-01-01','Frq':'FQ','Period':'FI0','Curn':'EUR'}\n",
    "#directorio en el que guardar los datos\n",
    "dir_fp = r'C:\\Users\\hugo.perezdealbeniz\\Documents\\GitHub\\ranking_DIP_european_equities\\eikon_data_retrieval\\data'"
   ]
  },
  {
   "cell_type": "code",
   "execution_count": null,
   "metadata": {},
   "outputs": [],
   "source": [
    "#df,err = ek.get_data('NESN.S',['TR.diutedwghtdavgshares','TR.diutedwghtdavgshares.date'],parameters)\n",
    "#df,err"
   ]
  },
  {
   "cell_type": "code",
   "execution_count": 8,
   "metadata": {},
   "outputs": [
    {
     "name": "stdout",
     "output_type": "stream",
     "text": [
      "Downloading intexpensenetnonoper(9)\n"
     ]
    },
    {
     "name": "stderr",
     "output_type": "stream",
     "text": [
      "100%|██████████| 5/5 [00:29<00:00,  5.98s/it]\n",
      "0it [00:00, ?it/s]\n"
     ]
    }
   ],
   "source": [
    "#import time\n",
    "#time.sleep(32272)\n",
    "\n",
    "download_indicators(fields_list,instruments_list,parameters,dir_fp)"
   ]
  },
  {
   "cell_type": "code",
   "execution_count": null,
   "metadata": {},
   "outputs": [],
   "source": [
    "for index,i in enumerate(os.listdir(dir_fp)):\n",
    "    if index > 40:# or i=='PriceToTangBVPerShare':\n",
    "        continue\n",
    "    try:\n",
    "        df = pd.read_csv(dir_fp+f'/{i}/{i}.csv')\n",
    "    except FileNotFoundError:\n",
    "        continue\n",
    "    print(i)\n",
    "    df.notna().sum(axis=1).plot(legend=True)"
   ]
  }
 ],
 "metadata": {
  "kernelspec": {
   "display_name": "Python 3",
   "language": "python",
   "name": "python3"
  },
  "language_info": {
   "codemirror_mode": {
    "name": "ipython",
    "version": 3
   },
   "file_extension": ".py",
   "mimetype": "text/x-python",
   "name": "python",
   "nbconvert_exporter": "python",
   "pygments_lexer": "ipython3",
   "version": "3.10.9"
  },
  "orig_nbformat": 4
 },
 "nbformat": 4,
 "nbformat_minor": 2
}
