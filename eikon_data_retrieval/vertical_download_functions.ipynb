{
 "cells": [
  {
   "cell_type": "code",
   "execution_count": 2,
   "metadata": {},
   "outputs": [],
   "source": [
    "%load_ext autoreload\n",
    "%autoreload 2"
   ]
  },
  {
   "cell_type": "code",
   "execution_count": 3,
   "metadata": {},
   "outputs": [],
   "source": [
    "import warnings\n",
    "warnings.filterwarnings('ignore')"
   ]
  },
  {
   "cell_type": "code",
   "execution_count": 4,
   "metadata": {},
   "outputs": [],
   "source": [
    "import eikon as ek\n",
    "import pandas as pd\n",
    "import os\n",
    "import json\n",
    "from data_retrieval import vertical_download, reconstruction, download_indicators, dfs_list_from_dir"
   ]
  },
  {
   "cell_type": "code",
   "execution_count": 5,
   "metadata": {},
   "outputs": [],
   "source": [
    "with open(r'Z:\\Interés Departamental\\Model Portfolio\\Hugo\\pruebas eikon ruben/stoxx600_constituents_list.json','r') as file:\n",
    "    constituents_list = json.load(file)"
   ]
  },
  {
   "cell_type": "code",
   "execution_count": 6,
   "metadata": {},
   "outputs": [
    {
     "data": {
      "text/plain": [
       "1825"
      ]
     },
     "execution_count": 6,
     "metadata": {},
     "output_type": "execute_result"
    }
   ],
   "source": [
    "len(constituents_list)"
   ]
  },
  {
   "cell_type": "code",
   "execution_count": 7,
   "metadata": {},
   "outputs": [],
   "source": [
    "instruments_list = constituents_list#[:50]\n",
    "#las funciones de eikon a descargar\n",
    "fields_list = ['TR.EBITDA',\n",
    "               #'TR.intexpensenetnonoper'\n",
    "               ]\n",
    "#parametros de la funcion\n",
    "parameters = {'SDate':'2000-01-01','EDate':'2023-01-01','Frq':'FQ','Period':'FI0','Curn':'EUR'}\n",
    "#directorio en el que guardar los datos\n",
    "dir_fp = r'C:\\Users\\hugo.perezdealbeniz\\Documents\\GitHub\\ranking_DIP_european_equities\\eikon_data_retrieval\\data'"
   ]
  },
  {
   "cell_type": "code",
   "execution_count": 8,
   "metadata": {},
   "outputs": [],
   "source": [
    "#vertical_download('error_test',fields_list[0],instruments_list,parameters)"
   ]
  },
  {
   "cell_type": "code",
   "execution_count": null,
   "metadata": {},
   "outputs": [],
   "source": [
    "'''\n",
    "- (\"Cannot save file into a non-existent directory: 'error_test\\\\raw_data'\",) 1\n",
    "- 2023-04-27 14:34:13,525 P[4056] [MainThread 25812] Failed to decode response to json: <!DOCTYPE HTML PUBLIC \"-//W3C//DTD HTML 4.01//EN\" \"http://www.w3.org/TR/html4/strict.dtd\"><html><head><title>Sign In</title><meta http-equiv=\"X-UA-Compatible\" content=\"IE=EmulateIE7\"/><meta http-equiv=\"content-type\" content=\"text/html; charset=utf-8\"/><META page=login><link rel=\"icon\" type=\"image/vnd.microsoft.icon\" href=\"/auth/images/favicon.png\"/><link rel=\"shortcut icon\" href=\"/auth/images/favicon.png\"/><link rel=\"stylesheet\" type=\"text/css\" href=\"/auth/css/charcoal_commonstyles_spr.css?v=_3.44.551.01\"/><link rel=\"stylesheet\" type=\"text/css\" href=\"/auth/css/refinitiv_charcoal_loginstyles_spr.css?v=_3.44.551.01\"/><script type=\"text/javascript\" src=\"/auth/js/signin_spr.js?v=_3.44.551.01\"></script><script type=\"text/javascript\" src=\"/js/as.js?v=_3.44.551.01\"></script><script src=\"/auth/js/jquery-1.10.1.min.js\"></script><script src=\"/auth/js/jquery-as.js?v=_3.44.551.01\"></script><script type='text/javascript'>function openHelpLink(){var link=\"https://my.refinitiv.com/content/mytr/en/productsupport.html\";window.open(link)}function initial(){elementFocus(\"AAA-AS-SI1-SE003\");$(\"#AAA-AS-SI1-SE008_Value\").val(\"FALSE\");$(\"#AAA-AS-SI1-SE008_CheckBox_TRUE\").checkbox({\"checkedValue\":\"TRUE\"});$(\"#AAA-AS-SI1-SE009\").click(asUtils.forwardClick(\"#AAA-AS-SI1-SE008_CheckBox_TRUE\"))};</script></head><body onload=\"initial()\" style=\"overflow:hidden;\"><div class='main'><div class=\"space_top\"></div><div class=\"content_center\"><div class=\"header\"><div class='header_bar_right'><div class='close_btn'><a class=\"close_icon\" id=\"AAA-AS-SI-SE023\" href=\"javascript:closeWindow();\" tabindex=\"-1\"></a></div><div class=\"language_bar\"><div class=\"language_box\" onclick=\"onClickLanguageBox('AAA-AS-SI-C005');\" onkeydown=\"return onPressLanguageBox(event, 'AAA-AS-SI-C005');\"><div class=\"language_select\" onmouseover='changeHover(this,\"language_select\",true)' onmouseout='changeHover(this,\"language_select\",false)' onfocus='changeHover(this,\"language_select\",true)' onblur='changeHover(this,\"language_select\",false)' tabIndex=\"8\"><div class=\"language_text\" id='AAA-AS-SI-SE020'>English\n",
    "</div></div><div id=\"AAA-AS-SI-C005\" class=\"language_list_box\"><a id=\"en-US\" class=\"language_item\" onclick=\"onSelectLanguage('en-US', '/auth/UI/Login?MajorVersion=1&ProviderID=https%3A%2F%2Femea1.proxy.cp.thomsonreuters.com%3A443%2Famagent&RequestID=3EA570C207B9B6C6440E48E207BEA848AF7D0D9B7D25902758518C4178681053&MinorVersion=0&theme=charcoal&IssueInstant=2023-04-27T12%3A34%3A13Z&goto=%2Fauth%2Fcdcservlet%3FTARGET%3Dhttps%253A%252F%252Femea1.apps.cp.thomsonreuters.com%252FApps%252FUDF%252FMSF%253Fampostpreserve%253D6b79ff3b-eaa8-5940-8106-20bb51086e95%2526srv%253DDTCP-ERPCPRP01%26MajorVersion%3D1%26ProviderID%3Dhttps%253A%252F%252Femea1.proxy.cp.thomsonreuters.com%253A443%252Famagent%26RequestID%3D3EA570C207B9B6C6440E48E207BEA848AF7D0D9B7D25902758518C4178681053%26MinorVersion%3D0%26theme%3Dcharcoal%26IssueInstant%3D2023-04-27T12%253A34%253A13Z%26locale%3Den-US&locale=en-US' ,'AAA-AS-SI-C005', 'AAA-AS-SI-C004', 'AAA-AS-SI-SE020')\" href=\"#\" tabIndex='-1'> English </a><a id=\"ja-JP\" class=\"language_item\" onclick=\"onSelectLanguage('ja-JP', '/auth/UI/Login?MajorVersion=1&ProviderID=https%3A%2F%2Femea1.proxy.cp.thomsonreuters.com%3A443%2Famagent&RequestID=3EA570C207B9B6C6440E48E207BEA848AF7D0D9B7D25902758518C4178681053&MinorVersion=0&theme=charcoal&IssueInstant=2023-04-27T12%3A34%3A13Z&goto=%2Fauth%2Fcdcservlet%3FTARGET%3Dhttps%253A%252F%252Femea1.apps.cp.thomsonreuters.com%252FApps%252FUDF%252FMSF%253Fampostpreserve%253D6b79ff3b-eaa8-5940-8106-20bb51086e95%2526srv%253DDTCP-ERPCPRP01%26MajorVersion%3D1%26ProviderID%3Dhttps%253A%252F%252Femea1.proxy.cp.thomsonreuters.com%253A443%252Famagent%26RequestID%3D3EA570C207B9B6C6440E48E207BEA848AF7D0D9B7D25902758518C4178681053%26MinorVersion%3D0%26theme%3Dcharcoal%26IssueInstant%3D2023-04-27T12%253A34%253A13Z%26locale%3Dja-JP&locale=ja-JP' ,'AAA-AS-SI-C005', 'AAA-AS-SI-C004', 'AAA-AS-SI-SE020')\" href=\"#\" tabIndex='-1'> 日本語 </a><a id=\"zh-CN\" class=\"language_item\" onclick=\"onSelectLanguage('zh-CN', '/auth/UI/Login?MajorVersion=1&ProviderID=https%3A%2F%2Femea1.proxy.cp.thomsonreuters.com%3A443%2Famagent&RequestID=3EA570C207B9B6C6440E48E207BEA848AF7D0D9B7D25902758518C4178681053&MinorVersion=0&theme=charcoal&IssueInstant=2023-04-27T12%3A34%3A13Z&goto=%2Fauth%2Fcdcservlet%3FTARGET%3Dhttps%253A%252F%252Femea1.apps.cp.thomsonreuters.com%252FApps%252FUDF%252FMSF%253Fampostpreserve%253D6b79ff3b-eaa8-5940-8106-20bb51086e95%2526srv%253DDTCP-ERPCPRP01%26MajorVersion%3D1%26ProviderID%3Dhttps%253A%252F%252Femea1.proxy.cp.thomsonreuters.com%253A443%252Famagent%26RequestID%3D3EA570C207B9B6C6440E48E207BEA848AF7D0D9B7D25902758518C4178681053%26MinorVersion%3D0%26theme%3Dcharcoal%26IssueInstant%3D2023-04-27T12%253A34%253A13Z%26locale%3Dzh-CN&locale=zh-CN' ,'AAA-AS-SI-C005', 'AAA-AS-SI-C004', 'AAA-AS-SI-SE020')\" href=\"#\" tabIndex='-1'> 中文简体 </a></div><input class='hiddensubmit' type=\"hidden\" id=\"AAA-AS-SI-C004\" name=\"AAA-AS-SI-C004\" value=\"en-US\"/></div></div></div></div><div class=\"body_main\"><div class=\"signin_body_content\"><div class=\"body_brand\"><div id=\"AAA-AS-SI-SE006\" class=\"product_brand_image\"></div></div><div class=\"body_input\"><form name=\"frmSignIn\" action=\"blank\" onSubmit=\"return defaultSubmit('AAA-AS-SI1-SE014')\" method=\"post\"><table width='100%' cellspacing=\"1\" cellpadding=\"0\" border=\"0\"><tr class='signin_input_row'><td width='76px'><label class='topic_txt' id=\"AAA-AS-SI1-SE002\" for='IDToken1'> User ID: </label></td><td><div class=\"textbox_img textbox_img_big2\"><input type=\"text\" id=\"AAA-AS-SI1-SE003\" name=\"IDToken1\" value=\"\" autocomplete=\"off\" tabIndex='1'/></div></td></tr><tr class='signin_userid_hint'><td>&nbsp;</td><td><label class=\"small_font \" id=\"AAA-AS-SI1-SE004\">Hint: This is usually your work email address</label></td></tr><tr class='signin_input_row'><td><label class='topic_txt' id=\"AAA-AS-SI1-SE005\" for=\"IDToken2\"> Password: </label></td><td><div class=\"textbox_img textbox_img_normal\"><input type=\"password\" id=\"AAA-AS-SI1-SE006\" tabIndex=\"2\" name=\"IDToken2\" value=\"\" autocomplete=\"off\"/></div></td></tr><tr><td>&nbsp;</td><td><a id=\"AAA-AS-SI1-SE007\" href=\"javascript:requestForgottenPassword(document.frmRequestFP,document.getElementById('AAA-AS-SI1-SE003').value,'en-US','charcoal','refinitiv','null');\" tabIndex=\"5\"> Forgotten your password? </a></td></tr></table><div class='signin_autoarea'><div id=\"AAA-AS-SI1-SE008\"><a id=\"AAA-AS-SI1-SE008_CheckBox_TRUE\" class=\"checkbox\" href=\"javascript:void(0)\" tabIndex=\"3\" data-value=\"#AAA-AS-SI1-SE008_Value\"></a> &nbsp; <a id=\"AAA-AS-SI1-SE009\" class='checkbox_label' href=\"javascript:void(0)\" tabIndex=\"-1\"> Sign me in automatically </a><input type=\"hidden\" class='hiddensubmit' id=\"AAA-AS-SI1-SE008_Value\" name=\"IDToken3\" value=\"FALSE\"/></div><div class=\"small_font signin_autohint \" id=\"AAA-AS-SI1-SE010\"> Do not use if device is shared. </div><input id=\"Submit1\" type=\"submit\" class=\"hiddensubmit\" hideFocus=\"true\" tabIndex='-1'/></div><div class='buttonarea' id=\"buttonarea_AAA-AS-SI1\"><script type='text/javascript'>createImageButton(\"AAA-AS-SI1-SE014\",\"Sign In\",\"defaultSubmit(\\\\'AAA-AS-SI1-SE014\\\\')\",4,\"button_75\",true);createImageButton(\"AAA-AS-SI1-SE015\",\"Cancel\",\"closeWindow()\",7,\"button_75\");</script></div><div class=\"signin_errormsg\" id=\"AAA-AS-SI1-SE012\"></div></form></div></div></div><div class=\"footer\"><div id=\"AAA-AS-SI-SE009\" class=\"footer_sep\"></div><div class=\"footer_content\"><a id=\"AAA-AS-SI-SE015\" href=\"https://my.refinitiv.com/content/mytr/en/signin.html\" target=\"_blank\" tabIndex=\"9\"> MyRefinitiv </a><span class=\"footer_content_sep\"></span><a id=\"AAA-AS-SI-SE016\" href=\"https://www.refinitiv.com/en/policies/privacy-statement\" target=\"_blank\" tabIndex=\"10\"> Privacy Statement </a><span class=\"footer_content_sep\"></span><a id=\"AAA-AS-SI-SE017\" href=\"https://www.refinitiv.com/en/about-us\" target=\"_blank\" tabIndex=\"11\"> About Us </a><span class=\"footer_content_sep\"></span><a id=\"AAA-AS-SI-SE012\" href=\"https://my.refinitiv.com/content/mytr/en/productsupport.html\" target=\"_blank\" tabIndex=\"12\"> Help </a></div></div></div></div><form name=\"frmRequestFP\" action=\"\" method=\"post\"><input type=\"hidden\" name=\"userId\" value=\"\"/><input type=\"hidden\" name=\"locale\" value=\"\"/></form><form method=\"post\" name=\"Login\" action=\"/auth/UI/Login\"><input type=\"hidden\" name=\"goto\" value=\"L2F1dGgvY2Rjc2VydmxldD9UQVJHRVQ9aHR0cHMlM0ElMkYlMkZlbWVhMS5hcHBzLmNwLnRob21zb25yZXV0ZXJzLmNvbSUyRkFwcHMlMkZVREYlMkZNU0YlM0ZhbXBvc3RwcmVzZXJ2ZSUzRDZiNzlmZjNiLWVhYTgtNTk0MC04MTA2LTIwYmI1MTA4NmU5NSUyNnNydiUzRERUQ1AtRVJQQ1BSUDAxJk1ham9yVmVyc2lvbj0xJlByb3ZpZGVySUQ9aHR0cHMlM0ElMkYlMkZlbWVhMS5wcm94eS5jcC50aG9tc29ucmV1dGVycy5jb20lM0E0NDMlMkZhbWFnZW50JlJlcXVlc3RJRD0zRUE1NzBDMjA3QjlCNkM2NDQwRTQ4RTIwN0JFQTg0OEFGN0QwRDlCN0QyNTkwMjc1ODUxOEM0MTc4NjgxMDUzJk1pbm9yVmVyc2lvbj0wJnRoZW1lPWNoYXJjb2FsJklzc3VlSW5zdGFudD0yMDIzLTA0LTI3VDEyJTNBMzQlM0ExM1o=\"/><input type=\"hidden\" name=\"encoded\" value=\"true\"/><input type=\"hidden\" name=\"locale\" value=\"en-US\"/><input type=\"hidden\" name=\"product\" value=\"\"/><input type=\"hidden\" name=\"eso\" value=\"\"/><input type=\"hidden\" name=\"username\" value=\"\"/><input type=\"hidden\" name=\"IDButton\" value=''/><input type=\"hidden\" name=\"fs\" value=\"\"/><input type=\"hidden\" name=\"epaid\" value=\"\"/><input type=\"hidden\" name=\"realm\" value=\"\"/><input type='hidden' name='IDToken1'/><input type='hidden' name='IDToken2'/><input type='hidden' name='IDToken3'/><input type='hidden' name='IDToken4'/><input type=\"hidden\" name=\"gx_charset\" value=\"UTF-8\"/></form></body></html>\n",
    "- Error code 401 | Eikon Proxy not running or cannot be reached. Please read the documentation on troubleshooting\n",
    "2023-04-27 13:12:40,764 P[4056] [MainThread 25812] Eikon Proxy not running or cannot be reached. Please read the documentation on troubleshooting\n",
    "'''"
   ]
  },
  {
   "cell_type": "code",
   "execution_count": 10,
   "metadata": {},
   "outputs": [
    {
     "name": "stdout",
     "output_type": "stream",
     "text": [
      "Downloading EBITDA(14)\n"
     ]
    },
    {
     "name": "stderr",
     "output_type": "stream",
     "text": [
      "  7%|▋         | 122/1825 [12:58<2:48:15,  5.93s/it]2023-04-28 09:26:27,166 P[15272] [MainThread 21020] Backend error. 400 Bad Request\n",
      "2023-04-28 09:26:27,168 P[15272] [MainThread 21020] HTTP request failed: EikonError-Backend error. 400 Bad Request\n",
      "  7%|▋         | 123/1825 [13:16<4:34:42,  9.68s/it]"
     ]
    },
    {
     "name": "stdout",
     "output_type": "stream",
     "text": [
      "eikon error:\n",
      " Error code 400 | Backend error. 400 Bad Request\n",
      "2 (400, 'Backend error. 400 Bad Request') \n",
      "\n"
     ]
    },
    {
     "name": "stderr",
     "output_type": "stream",
     "text": [
      "  8%|▊         | 139/1825 [15:10<2:45:25,  5.89s/it]2023-04-28 09:28:39,580 P[15272] [MainThread 21020] Backend error. 400 Bad Request\n",
      "2023-04-28 09:28:39,581 P[15272] [MainThread 21020] HTTP request failed: EikonError-Backend error. 400 Bad Request\n",
      "  8%|▊         | 140/1825 [15:28<4:29:43,  9.60s/it]"
     ]
    },
    {
     "name": "stdout",
     "output_type": "stream",
     "text": [
      "eikon error:\n",
      " Error code 400 | Backend error. 400 Bad Request\n",
      "2 (400, 'Backend error. 400 Bad Request') \n",
      "\n"
     ]
    },
    {
     "name": "stderr",
     "output_type": "stream",
     "text": [
      "  9%|▉         | 169/1825 [18:29<2:45:22,  5.99s/it]2023-04-28 09:31:58,427 P[15272] [MainThread 21020] Backend error. 400 Bad Request\n",
      "2023-04-28 09:31:58,427 P[15272] [MainThread 21020] HTTP request failed: EikonError-Backend error. 400 Bad Request\n",
      "  9%|▉         | 170/1825 [18:47<4:27:03,  9.68s/it]"
     ]
    },
    {
     "name": "stdout",
     "output_type": "stream",
     "text": [
      "eikon error:\n",
      " Error code 400 | Backend error. 400 Bad Request\n",
      "2 (400, 'Backend error. 400 Bad Request') \n",
      "\n"
     ]
    },
    {
     "name": "stderr",
     "output_type": "stream",
     "text": [
      " 23%|██▎       | 414/1825 [42:53<2:17:27,  5.85s/it]"
     ]
    }
   ],
   "source": [
    "#import time\n",
    "#time.sleep(32272)\n",
    "\n",
    "download_indicators(fields_list,instruments_list,parameters,dir_fp)"
   ]
  },
  {
   "cell_type": "code",
   "execution_count": null,
   "metadata": {},
   "outputs": [],
   "source": [
    "for index,i in enumerate(os.listdir(dir_fp)):\n",
    "    if index > 40:# or i=='PriceToTangBVPerShare':\n",
    "        continue\n",
    "    try:\n",
    "        df = pd.read_csv(dir_fp+f'/{i}/{i}.csv')\n",
    "    except FileNotFoundError:\n",
    "        continue\n",
    "    print(i)\n",
    "    df.notna().sum(axis=1).plot(legend=True)"
   ]
  }
 ],
 "metadata": {
  "kernelspec": {
   "display_name": "Python 3",
   "language": "python",
   "name": "python3"
  },
  "language_info": {
   "codemirror_mode": {
    "name": "ipython",
    "version": 3
   },
   "file_extension": ".py",
   "mimetype": "text/x-python",
   "name": "python",
   "nbconvert_exporter": "python",
   "pygments_lexer": "ipython3",
   "version": "3.10.9"
  },
  "orig_nbformat": 4
 },
 "nbformat": 4,
 "nbformat_minor": 2
}
