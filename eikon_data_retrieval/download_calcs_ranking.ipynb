{
 "cells": [
  {
   "cell_type": "code",
   "execution_count": 1,
   "metadata": {},
   "outputs": [],
   "source": [
    "%load_ext autoreload\n",
    "%autoreload 2\n",
    "\n",
    "import warnings\n",
    "warnings.filterwarnings('ignore')\n",
    "\n",
    "import sys\n",
    "sys.path.append('../app')"
   ]
  },
  {
   "cell_type": "code",
   "execution_count": 2,
   "metadata": {},
   "outputs": [],
   "source": [
    "from data_retrieval import vertical_download, reconstruction, download_indicators, dfs_list_from_dir\n",
    "\n",
    "import pandas as pd\n",
    "import eikon as ek\n",
    "\n",
    "import app_functions as af\n",
    "import custom_calculations as calcs"
   ]
  },
  {
   "attachments": {},
   "cell_type": "markdown",
   "metadata": {},
   "source": [
    "### Downloading"
   ]
  },
  {
   "cell_type": "code",
   "execution_count": 3,
   "metadata": {},
   "outputs": [],
   "source": [
    "instruments_list = ek.get_data('0#.STOXX','TR.RIC')[0].RIC.tolist()"
   ]
  },
  {
   "cell_type": "code",
   "execution_count": 4,
   "metadata": {},
   "outputs": [
    {
     "data": {
      "text/plain": [
       "600"
      ]
     },
     "execution_count": 4,
     "metadata": {},
     "output_type": "execute_result"
    }
   ],
   "source": [
    "len(instruments_list)"
   ]
  },
  {
   "cell_type": "code",
   "execution_count": 7,
   "metadata": {},
   "outputs": [],
   "source": [
    "#las funciones de eikon a descargar\n",
    "fields_list = [#'TR.TRESGScore',\n",
    "               'TR.Volume',\n",
    "               'TR.EBIT'\n",
    "               ]\n",
    "#parametros de la funcion\n",
    "parameters = {'SDate':'2012-01-01','EDate':'2023-01-01','Frq':'FY','Period':'FY0'}\n",
    "#directorio en el que guardar los datos\n",
    "dir_fp = r'C:\\Users\\hugo.perezdealbeniz\\Documents\\GitHub\\ranking_DIP_european_equities\\eikon_data_retrieval\\data'"
   ]
  },
  {
   "cell_type": "code",
   "execution_count": 6,
   "metadata": {},
   "outputs": [
    {
     "name": "stdout",
     "output_type": "stream",
     "text": [
      "Downloading TRESGScore(4)\n"
     ]
    },
    {
     "name": "stderr",
     "output_type": "stream",
     "text": [
      "  7%|▋         | 41/600 [00:32<07:17,  1.28it/s]2023-05-04 09:33:58,382 P[13844] [MainThread 18076] Backend error. 400 Bad Request\n",
      "2023-05-04 09:33:58.382 ERROR   pyeikon: Backend error. 400 Bad Request\n",
      "2023-05-04 09:33:58,384 P[13844] [MainThread 18076] HTTP request failed: EikonError-Backend error. 400 Bad Request\n",
      "2023-05-04 09:33:58.384 ERROR   pyeikon: HTTP request failed: EikonError-Backend error. 400 Bad Request\n",
      "  8%|▊         | 45/600 [00:53<24:12,  2.62s/it]2023-05-04 09:34:19,285 P[13844] [MainThread 18076] Backend error. 400 Bad Request\n",
      "2023-05-04 09:34:19.285 ERROR   pyeikon: Backend error. 400 Bad Request\n",
      "2023-05-04 09:34:19,287 P[13844] [MainThread 18076] HTTP request failed: EikonError-Backend error. 400 Bad Request\n",
      "2023-05-04 09:34:19.287 ERROR   pyeikon: HTTP request failed: EikonError-Backend error. 400 Bad Request\n",
      "100%|██████████| 600/600 [06:58<00:00,  1.43it/s] \n"
     ]
    }
   ],
   "source": [
    "#only ESGScore\n",
    "data_dict = download_indicators(fields_list,instruments_list,parameters,dir_fp)"
   ]
  },
  {
   "cell_type": "code",
   "execution_count": 8,
   "metadata": {},
   "outputs": [
    {
     "name": "stdout",
     "output_type": "stream",
     "text": [
      "Downloading Volume(9)\n"
     ]
    },
    {
     "name": "stderr",
     "output_type": "stream",
     "text": [
      "  3%|▎         | 19/600 [00:09<04:52,  1.98it/s]2023-05-04 09:40:33,102 P[13844] [MainThread 18076] Receive ticket from responses, wait for 15.0 seconds\n",
      "2023-05-04 09:40:33.102 INFO    pyeikon: Receive ticket from responses, wait for 15.0 seconds\n",
      "  4%|▎         | 22/600 [00:39<44:45,  4.65s/it]  2023-05-04 09:41:07,723 P[13844] [MainThread 18076] Backend error. 400 Bad Request\n",
      "2023-05-04 09:41:07.723 ERROR   pyeikon: Backend error. 400 Bad Request\n",
      "2023-05-04 09:41:07,726 P[13844] [MainThread 18076] HTTP request failed: EikonError-Backend error. 400 Bad Request\n",
      "2023-05-04 09:41:07.726 ERROR   pyeikon: HTTP request failed: EikonError-Backend error. 400 Bad Request\n",
      "  4%|▍         | 24/600 [00:57<59:56,  6.24s/it]  2023-05-04 09:41:26,395 P[13844] [MainThread 18076] Backend error. 400 Bad Request\n",
      "2023-05-04 09:41:26.395 ERROR   pyeikon: Backend error. 400 Bad Request\n",
      "2023-05-04 09:41:26,397 P[13844] [MainThread 18076] HTTP request failed: EikonError-Backend error. 400 Bad Request\n",
      "2023-05-04 09:41:26.397 ERROR   pyeikon: HTTP request failed: EikonError-Backend error. 400 Bad Request\n",
      " 23%|██▎       | 140/600 [02:25<03:31,  2.18it/s] 2023-05-04 09:42:45,119 P[13844] [MainThread 18076] Receive ticket from responses, wait for 15.0 seconds\n",
      "2023-05-04 09:42:45.119 INFO    pyeikon: Receive ticket from responses, wait for 15.0 seconds\n",
      "100%|██████████| 600/600 [07:02<00:00,  1.42it/s]\n"
     ]
    },
    {
     "name": "stdout",
     "output_type": "stream",
     "text": [
      "Downloading EBIT\n"
     ]
    },
    {
     "name": "stderr",
     "output_type": "stream",
     "text": [
      " 60%|██████    | 363/600 [06:06<03:12,  1.23it/s]2023-05-04 09:53:32,602 P[13844] [MainThread 18076] Receive ticket from responses, wait for 15.0 seconds\n",
      "2023-05-04 09:53:32.602 INFO    pyeikon: Receive ticket from responses, wait for 15.0 seconds\n",
      " 61%|██████▏   | 368/600 [06:37<10:35,  2.74s/it]2023-05-04 09:54:09,797 P[13844] [MainThread 18076] Backend error. 400 Bad Request\n",
      "2023-05-04 09:54:09.797 ERROR   pyeikon: Backend error. 400 Bad Request\n",
      "2023-05-04 09:54:09,802 P[13844] [MainThread 18076] HTTP request failed: EikonError-Backend error. 400 Bad Request\n",
      "2023-05-04 09:54:09.802 ERROR   pyeikon: HTTP request failed: EikonError-Backend error. 400 Bad Request\n",
      " 63%|██████▎   | 376/600 [07:01<04:57,  1.33s/it]2023-05-04 09:54:33,653 P[13844] [MainThread 18076] Backend error. 400 Bad Request\n",
      "2023-05-04 09:54:33.653 ERROR   pyeikon: Backend error. 400 Bad Request\n",
      "2023-05-04 09:54:33,657 P[13844] [MainThread 18076] HTTP request failed: EikonError-Backend error. 400 Bad Request\n",
      "2023-05-04 09:54:33.657 ERROR   pyeikon: HTTP request failed: EikonError-Backend error. 400 Bad Request\n",
      " 63%|██████▎   | 378/600 [07:20<17:31,  4.73s/it]2023-05-04 09:54:52,928 P[13844] [MainThread 18076] Backend error. 400 Bad Request\n",
      "2023-05-04 09:54:52.928 ERROR   pyeikon: Backend error. 400 Bad Request\n",
      "2023-05-04 09:54:52,931 P[13844] [MainThread 18076] HTTP request failed: EikonError-Backend error. 400 Bad Request\n",
      "2023-05-04 09:54:52.931 ERROR   pyeikon: HTTP request failed: EikonError-Backend error. 400 Bad Request\n",
      " 70%|███████   | 423/600 [08:25<03:21,  1.14s/it]2023-05-04 09:55:48,906 P[13844] [MainThread 18076] Receive ticket from responses, wait for 10.0 seconds\n",
      "2023-05-04 09:55:48.906 INFO    pyeikon: Receive ticket from responses, wait for 10.0 seconds\n",
      " 94%|█████████▍| 564/600 [10:50<00:34,  1.06it/s]2023-05-04 09:58:16,083 P[13844] [MainThread 18076] Receive ticket from responses, wait for 15.0 seconds\n",
      "2023-05-04 09:58:16.083 INFO    pyeikon: Receive ticket from responses, wait for 15.0 seconds\n",
      " 94%|█████████▍| 566/600 [11:18<03:47,  6.68s/it]2023-05-04 09:58:42,245 P[13844] [MainThread 18076] Receive ticket from responses, wait for 15.0 seconds\n",
      "2023-05-04 09:58:42.245 INFO    pyeikon: Receive ticket from responses, wait for 15.0 seconds\n",
      "100%|██████████| 600/600 [12:11<00:00,  1.22s/it]\n"
     ]
    }
   ],
   "source": [
    "#Volume and EBIT\n",
    "new_dict = download_indicators(fields_list,instruments_list,parameters,dir_fp)"
   ]
  },
  {
   "cell_type": "code",
   "execution_count": 14,
   "metadata": {},
   "outputs": [
    {
     "data": {
      "text/plain": [
       "dict_keys(['Volume', 'EBIT'])"
      ]
     },
     "execution_count": 14,
     "metadata": {},
     "output_type": "execute_result"
    }
   ],
   "source": [
    "new_dict.keys()"
   ]
  },
  {
   "cell_type": "code",
   "execution_count": 15,
   "metadata": {},
   "outputs": [],
   "source": [
    "data_dict.update(new_dict)"
   ]
  },
  {
   "cell_type": "code",
   "execution_count": 16,
   "metadata": {},
   "outputs": [
    {
     "data": {
      "text/plain": [
       "dict_keys(['TRESGScore', 'Volume', 'EBIT'])"
      ]
     },
     "execution_count": 16,
     "metadata": {},
     "output_type": "execute_result"
    }
   ],
   "source": [
    "data_dict.keys()"
   ]
  },
  {
   "attachments": {},
   "cell_type": "markdown",
   "metadata": {},
   "source": [
    "### Calculations and ranking"
   ]
  },
  {
   "cell_type": "code",
   "execution_count": 43,
   "metadata": {},
   "outputs": [],
   "source": [
    "n_quantiles = 10"
   ]
  },
  {
   "cell_type": "code",
   "execution_count": 17,
   "metadata": {},
   "outputs": [],
   "source": [
    "esg_df = data_dict['TRESGScore']\n",
    "volume_df = data_dict['Volume']\n",
    "ebit_df = data_dict['EBIT']"
   ]
  },
  {
   "cell_type": "code",
   "execution_count": null,
   "metadata": {},
   "outputs": [],
   "source": [
    "#ebit_df.notna().sum(axis=1).plot()"
   ]
  },
  {
   "cell_type": "code",
   "execution_count": 40,
   "metadata": {},
   "outputs": [],
   "source": [
    "calc1 = calcs.exponential_ma(volume_df.apply(pd.to_numeric),13)"
   ]
  },
  {
   "cell_type": "code",
   "execution_count": 52,
   "metadata": {},
   "outputs": [],
   "source": [
    "calc2 = calcs.simple_ma(ebit_df.apply(pd.to_numeric),4)"
   ]
  },
  {
   "cell_type": "code",
   "execution_count": 54,
   "metadata": {},
   "outputs": [],
   "source": [
    "custom_calc_df = calc1*calc2/calcs.rsi(esg_df,4)"
   ]
  },
  {
   "cell_type": "code",
   "execution_count": 55,
   "metadata": {},
   "outputs": [
    {
     "data": {
      "text/html": [
       "<div>\n",
       "<style scoped>\n",
       "    .dataframe tbody tr th:only-of-type {\n",
       "        vertical-align: middle;\n",
       "    }\n",
       "\n",
       "    .dataframe tbody tr th {\n",
       "        vertical-align: top;\n",
       "    }\n",
       "\n",
       "    .dataframe thead th {\n",
       "        text-align: right;\n",
       "    }\n",
       "</style>\n",
       "<table border=\"1\" class=\"dataframe\">\n",
       "  <thead>\n",
       "    <tr style=\"text-align: right;\">\n",
       "      <th></th>\n",
       "      <th>1COV.DE</th>\n",
       "      <th>A2.MI</th>\n",
       "      <th>AAK.ST</th>\n",
       "      <th>AAL.L</th>\n",
       "      <th>AALB.AS</th>\n",
       "      <th>ABBN.S</th>\n",
       "      <th>ABDN.L</th>\n",
       "      <th>ABF.L</th>\n",
       "      <th>ABI.BR</th>\n",
       "      <th>ABNd.AS</th>\n",
       "      <th>...</th>\n",
       "      <th>WISEa.L</th>\n",
       "      <th>WLN.PA</th>\n",
       "      <th>WLSNc.AS</th>\n",
       "      <th>WOSG.L</th>\n",
       "      <th>WPP.L</th>\n",
       "      <th>WRT1V.HE</th>\n",
       "      <th>WTB.L</th>\n",
       "      <th>YAR.OL</th>\n",
       "      <th>ZALG.DE</th>\n",
       "      <th>ZURN.S</th>\n",
       "    </tr>\n",
       "  </thead>\n",
       "  <tbody>\n",
       "    <tr>\n",
       "      <th>2012-01-31</th>\n",
       "      <td>NaN</td>\n",
       "      <td>NaN</td>\n",
       "      <td>NaN</td>\n",
       "      <td>NaN</td>\n",
       "      <td>NaN</td>\n",
       "      <td>NaN</td>\n",
       "      <td>NaN</td>\n",
       "      <td>NaN</td>\n",
       "      <td>NaN</td>\n",
       "      <td>NaN</td>\n",
       "      <td>...</td>\n",
       "      <td>NaN</td>\n",
       "      <td>NaN</td>\n",
       "      <td>NaN</td>\n",
       "      <td>NaN</td>\n",
       "      <td>NaN</td>\n",
       "      <td>NaN</td>\n",
       "      <td>NaN</td>\n",
       "      <td>NaN</td>\n",
       "      <td>NaN</td>\n",
       "      <td>NaN</td>\n",
       "    </tr>\n",
       "    <tr>\n",
       "      <th>2012-02-29</th>\n",
       "      <td>NaN</td>\n",
       "      <td>NaN</td>\n",
       "      <td>NaN</td>\n",
       "      <td>NaN</td>\n",
       "      <td>NaN</td>\n",
       "      <td>NaN</td>\n",
       "      <td>NaN</td>\n",
       "      <td>NaN</td>\n",
       "      <td>NaN</td>\n",
       "      <td>NaN</td>\n",
       "      <td>...</td>\n",
       "      <td>NaN</td>\n",
       "      <td>NaN</td>\n",
       "      <td>NaN</td>\n",
       "      <td>NaN</td>\n",
       "      <td>NaN</td>\n",
       "      <td>NaN</td>\n",
       "      <td>NaN</td>\n",
       "      <td>NaN</td>\n",
       "      <td>NaN</td>\n",
       "      <td>NaN</td>\n",
       "    </tr>\n",
       "    <tr>\n",
       "      <th>2012-03-31</th>\n",
       "      <td>NaN</td>\n",
       "      <td>NaN</td>\n",
       "      <td>NaN</td>\n",
       "      <td>NaN</td>\n",
       "      <td>NaN</td>\n",
       "      <td>NaN</td>\n",
       "      <td>NaN</td>\n",
       "      <td>NaN</td>\n",
       "      <td>NaN</td>\n",
       "      <td>NaN</td>\n",
       "      <td>...</td>\n",
       "      <td>NaN</td>\n",
       "      <td>NaN</td>\n",
       "      <td>NaN</td>\n",
       "      <td>NaN</td>\n",
       "      <td>NaN</td>\n",
       "      <td>NaN</td>\n",
       "      <td>NaN</td>\n",
       "      <td>NaN</td>\n",
       "      <td>NaN</td>\n",
       "      <td>NaN</td>\n",
       "    </tr>\n",
       "    <tr>\n",
       "      <th>2012-04-30</th>\n",
       "      <td>NaN</td>\n",
       "      <td>NaN</td>\n",
       "      <td>NaN</td>\n",
       "      <td>NaN</td>\n",
       "      <td>NaN</td>\n",
       "      <td>NaN</td>\n",
       "      <td>NaN</td>\n",
       "      <td>NaN</td>\n",
       "      <td>NaN</td>\n",
       "      <td>NaN</td>\n",
       "      <td>...</td>\n",
       "      <td>NaN</td>\n",
       "      <td>NaN</td>\n",
       "      <td>NaN</td>\n",
       "      <td>NaN</td>\n",
       "      <td>NaN</td>\n",
       "      <td>NaN</td>\n",
       "      <td>NaN</td>\n",
       "      <td>NaN</td>\n",
       "      <td>NaN</td>\n",
       "      <td>NaN</td>\n",
       "    </tr>\n",
       "    <tr>\n",
       "      <th>2012-05-31</th>\n",
       "      <td>NaN</td>\n",
       "      <td>NaN</td>\n",
       "      <td>NaN</td>\n",
       "      <td>NaN</td>\n",
       "      <td>NaN</td>\n",
       "      <td>NaN</td>\n",
       "      <td>NaN</td>\n",
       "      <td>NaN</td>\n",
       "      <td>NaN</td>\n",
       "      <td>NaN</td>\n",
       "      <td>...</td>\n",
       "      <td>NaN</td>\n",
       "      <td>NaN</td>\n",
       "      <td>NaN</td>\n",
       "      <td>NaN</td>\n",
       "      <td>NaN</td>\n",
       "      <td>NaN</td>\n",
       "      <td>NaN</td>\n",
       "      <td>NaN</td>\n",
       "      <td>NaN</td>\n",
       "      <td>NaN</td>\n",
       "    </tr>\n",
       "    <tr>\n",
       "      <th>...</th>\n",
       "      <td>...</td>\n",
       "      <td>...</td>\n",
       "      <td>...</td>\n",
       "      <td>...</td>\n",
       "      <td>...</td>\n",
       "      <td>...</td>\n",
       "      <td>...</td>\n",
       "      <td>...</td>\n",
       "      <td>...</td>\n",
       "      <td>...</td>\n",
       "      <td>...</td>\n",
       "      <td>...</td>\n",
       "      <td>...</td>\n",
       "      <td>...</td>\n",
       "      <td>...</td>\n",
       "      <td>...</td>\n",
       "      <td>...</td>\n",
       "      <td>...</td>\n",
       "      <td>...</td>\n",
       "      <td>...</td>\n",
       "      <td>...</td>\n",
       "    </tr>\n",
       "    <tr>\n",
       "      <th>2022-08-31</th>\n",
       "      <td>0.0</td>\n",
       "      <td>0.0</td>\n",
       "      <td>0.0</td>\n",
       "      <td>1.335596e+14</td>\n",
       "      <td>1.585879e+11</td>\n",
       "      <td>0.0</td>\n",
       "      <td>2.848334e+12</td>\n",
       "      <td>NaN</td>\n",
       "      <td>4.557651e+13</td>\n",
       "      <td>2.434001e+13</td>\n",
       "      <td>...</td>\n",
       "      <td>4.778799e+11</td>\n",
       "      <td>6.092199e+11</td>\n",
       "      <td>1.341910e+12</td>\n",
       "      <td>NaN</td>\n",
       "      <td>1.204038e+13</td>\n",
       "      <td>0.0</td>\n",
       "      <td>NaN</td>\n",
       "      <td>0.0</td>\n",
       "      <td>0.0</td>\n",
       "      <td>0.0</td>\n",
       "    </tr>\n",
       "    <tr>\n",
       "      <th>2022-09-30</th>\n",
       "      <td>0.0</td>\n",
       "      <td>0.0</td>\n",
       "      <td>0.0</td>\n",
       "      <td>1.309418e+14</td>\n",
       "      <td>1.563276e+11</td>\n",
       "      <td>0.0</td>\n",
       "      <td>2.795541e+12</td>\n",
       "      <td>NaN</td>\n",
       "      <td>4.505540e+13</td>\n",
       "      <td>2.284808e+13</td>\n",
       "      <td>...</td>\n",
       "      <td>5.006039e+11</td>\n",
       "      <td>6.095741e+11</td>\n",
       "      <td>1.327506e+12</td>\n",
       "      <td>NaN</td>\n",
       "      <td>1.202509e+13</td>\n",
       "      <td>0.0</td>\n",
       "      <td>NaN</td>\n",
       "      <td>0.0</td>\n",
       "      <td>0.0</td>\n",
       "      <td>0.0</td>\n",
       "    </tr>\n",
       "    <tr>\n",
       "      <th>2022-10-31</th>\n",
       "      <td>0.0</td>\n",
       "      <td>0.0</td>\n",
       "      <td>0.0</td>\n",
       "      <td>1.286980e+14</td>\n",
       "      <td>1.543902e+11</td>\n",
       "      <td>0.0</td>\n",
       "      <td>2.750291e+12</td>\n",
       "      <td>NaN</td>\n",
       "      <td>4.460873e+13</td>\n",
       "      <td>2.156929e+13</td>\n",
       "      <td>...</td>\n",
       "      <td>5.200816e+11</td>\n",
       "      <td>6.098777e+11</td>\n",
       "      <td>1.315159e+12</td>\n",
       "      <td>NaN</td>\n",
       "      <td>1.201198e+13</td>\n",
       "      <td>0.0</td>\n",
       "      <td>NaN</td>\n",
       "      <td>0.0</td>\n",
       "      <td>0.0</td>\n",
       "      <td>0.0</td>\n",
       "    </tr>\n",
       "    <tr>\n",
       "      <th>2022-11-30</th>\n",
       "      <td>0.0</td>\n",
       "      <td>0.0</td>\n",
       "      <td>0.0</td>\n",
       "      <td>1.267747e+14</td>\n",
       "      <td>1.527295e+11</td>\n",
       "      <td>0.0</td>\n",
       "      <td>2.711505e+12</td>\n",
       "      <td>NaN</td>\n",
       "      <td>4.422588e+13</td>\n",
       "      <td>2.047318e+13</td>\n",
       "      <td>...</td>\n",
       "      <td>5.367768e+11</td>\n",
       "      <td>6.101379e+11</td>\n",
       "      <td>1.304576e+12</td>\n",
       "      <td>NaN</td>\n",
       "      <td>1.200075e+13</td>\n",
       "      <td>0.0</td>\n",
       "      <td>NaN</td>\n",
       "      <td>0.0</td>\n",
       "      <td>0.0</td>\n",
       "      <td>0.0</td>\n",
       "    </tr>\n",
       "    <tr>\n",
       "      <th>2022-12-31</th>\n",
       "      <td>0.0</td>\n",
       "      <td>0.0</td>\n",
       "      <td>0.0</td>\n",
       "      <td>1.086640e+14</td>\n",
       "      <td>1.309110e+11</td>\n",
       "      <td>0.0</td>\n",
       "      <td>2.324147e+12</td>\n",
       "      <td>NaN</td>\n",
       "      <td>3.790789e+13</td>\n",
       "      <td>1.749369e+13</td>\n",
       "      <td>...</td>\n",
       "      <td>4.600944e+11</td>\n",
       "      <td>5.229753e+11</td>\n",
       "      <td>1.118208e+12</td>\n",
       "      <td>NaN</td>\n",
       "      <td>1.028636e+13</td>\n",
       "      <td>0.0</td>\n",
       "      <td>NaN</td>\n",
       "      <td>0.0</td>\n",
       "      <td>0.0</td>\n",
       "      <td>0.0</td>\n",
       "    </tr>\n",
       "  </tbody>\n",
       "</table>\n",
       "<p>132 rows × 599 columns</p>\n",
       "</div>"
      ],
      "text/plain": [
       "            1COV.DE  A2.MI  AAK.ST         AAL.L       AALB.AS  ABBN.S  \\\n",
       "2012-01-31      NaN    NaN     NaN           NaN           NaN     NaN   \n",
       "2012-02-29      NaN    NaN     NaN           NaN           NaN     NaN   \n",
       "2012-03-31      NaN    NaN     NaN           NaN           NaN     NaN   \n",
       "2012-04-30      NaN    NaN     NaN           NaN           NaN     NaN   \n",
       "2012-05-31      NaN    NaN     NaN           NaN           NaN     NaN   \n",
       "...             ...    ...     ...           ...           ...     ...   \n",
       "2022-08-31      0.0    0.0     0.0  1.335596e+14  1.585879e+11     0.0   \n",
       "2022-09-30      0.0    0.0     0.0  1.309418e+14  1.563276e+11     0.0   \n",
       "2022-10-31      0.0    0.0     0.0  1.286980e+14  1.543902e+11     0.0   \n",
       "2022-11-30      0.0    0.0     0.0  1.267747e+14  1.527295e+11     0.0   \n",
       "2022-12-31      0.0    0.0     0.0  1.086640e+14  1.309110e+11     0.0   \n",
       "\n",
       "                  ABDN.L  ABF.L        ABI.BR       ABNd.AS  ...  \\\n",
       "2012-01-31           NaN    NaN           NaN           NaN  ...   \n",
       "2012-02-29           NaN    NaN           NaN           NaN  ...   \n",
       "2012-03-31           NaN    NaN           NaN           NaN  ...   \n",
       "2012-04-30           NaN    NaN           NaN           NaN  ...   \n",
       "2012-05-31           NaN    NaN           NaN           NaN  ...   \n",
       "...                  ...    ...           ...           ...  ...   \n",
       "2022-08-31  2.848334e+12    NaN  4.557651e+13  2.434001e+13  ...   \n",
       "2022-09-30  2.795541e+12    NaN  4.505540e+13  2.284808e+13  ...   \n",
       "2022-10-31  2.750291e+12    NaN  4.460873e+13  2.156929e+13  ...   \n",
       "2022-11-30  2.711505e+12    NaN  4.422588e+13  2.047318e+13  ...   \n",
       "2022-12-31  2.324147e+12    NaN  3.790789e+13  1.749369e+13  ...   \n",
       "\n",
       "                 WISEa.L        WLN.PA      WLSNc.AS  WOSG.L         WPP.L  \\\n",
       "2012-01-31           NaN           NaN           NaN     NaN           NaN   \n",
       "2012-02-29           NaN           NaN           NaN     NaN           NaN   \n",
       "2012-03-31           NaN           NaN           NaN     NaN           NaN   \n",
       "2012-04-30           NaN           NaN           NaN     NaN           NaN   \n",
       "2012-05-31           NaN           NaN           NaN     NaN           NaN   \n",
       "...                  ...           ...           ...     ...           ...   \n",
       "2022-08-31  4.778799e+11  6.092199e+11  1.341910e+12     NaN  1.204038e+13   \n",
       "2022-09-30  5.006039e+11  6.095741e+11  1.327506e+12     NaN  1.202509e+13   \n",
       "2022-10-31  5.200816e+11  6.098777e+11  1.315159e+12     NaN  1.201198e+13   \n",
       "2022-11-30  5.367768e+11  6.101379e+11  1.304576e+12     NaN  1.200075e+13   \n",
       "2022-12-31  4.600944e+11  5.229753e+11  1.118208e+12     NaN  1.028636e+13   \n",
       "\n",
       "            WRT1V.HE  WTB.L  YAR.OL  ZALG.DE  ZURN.S  \n",
       "2012-01-31       NaN    NaN     NaN      NaN     NaN  \n",
       "2012-02-29       NaN    NaN     NaN      NaN     NaN  \n",
       "2012-03-31       NaN    NaN     NaN      NaN     NaN  \n",
       "2012-04-30       NaN    NaN     NaN      NaN     NaN  \n",
       "2012-05-31       NaN    NaN     NaN      NaN     NaN  \n",
       "...              ...    ...     ...      ...     ...  \n",
       "2022-08-31       0.0    NaN     0.0      0.0     0.0  \n",
       "2022-09-30       0.0    NaN     0.0      0.0     0.0  \n",
       "2022-10-31       0.0    NaN     0.0      0.0     0.0  \n",
       "2022-11-30       0.0    NaN     0.0      0.0     0.0  \n",
       "2022-12-31       0.0    NaN     0.0      0.0     0.0  \n",
       "\n",
       "[132 rows x 599 columns]"
      ]
     },
     "execution_count": 55,
     "metadata": {},
     "output_type": "execute_result"
    }
   ],
   "source": [
    "custom_calc_df"
   ]
  },
  {
   "cell_type": "code",
   "execution_count": 57,
   "metadata": {},
   "outputs": [
    {
     "name": "stdout",
     "output_type": "stream",
     "text": [
      "Failed to rank:\n",
      " [3, 12, 13, 14, 15, 16, 17, 18, 19, 20, 21, 22, 23, 24, 25, 26, 27, 28, 29, 30, 31, 32, 33, 34, 35]\n"
     ]
    }
   ],
   "source": [
    "ranks = af.rank_data(custom_calc_df,n_quantiles,'high').iloc[-1,:]"
   ]
  },
  {
   "cell_type": "code",
   "execution_count": 63,
   "metadata": {},
   "outputs": [
    {
     "data": {
      "text/plain": [
       "(132, 599)"
      ]
     },
     "execution_count": 63,
     "metadata": {},
     "output_type": "execute_result"
    }
   ],
   "source": [
    "custom_calc_df.shape"
   ]
  },
  {
   "cell_type": "code",
   "execution_count": 59,
   "metadata": {},
   "outputs": [
    {
     "data": {
      "text/plain": [
       "ASRNL.AS    1.0\n",
       "AV.L        1.0\n",
       "BARC.L      1.0\n",
       "BATS.L      1.0\n",
       "BP.L        1.0\n",
       "BT.L        1.0\n",
       "CABK.MC     1.0\n",
       "DGE.L       1.0\n",
       "EDF.PA      1.0\n",
       "EDP.LS      1.0\n",
       "GLEN.L      1.0\n",
       "HSBA.L      1.0\n",
       "HWDN.L      1.0\n",
       "IBE.MC      1.0\n",
       "KGF.L       1.0\n",
       "LLOY.L      1.0\n",
       "MNDI.L      1.0\n",
       "ORAN.PA     1.0\n",
       "PHG.AS      1.0\n",
       "REL.L       1.0\n",
       "RIO.L       1.0\n",
       "SAN.MC      1.0\n",
       "SCOR.PA     1.0\n",
       "SHEL.AS     1.0\n",
       "SOGN.PA     1.0\n",
       "TTEF.PA     1.0\n",
       "ULVR.L      1.0\n",
       "VOD.L       1.0\n",
       "Name: 2022-12-31, dtype: float64"
      ]
     },
     "execution_count": 59,
     "metadata": {},
     "output_type": "execute_result"
    }
   ],
   "source": [
    "ranks.loc[ranks==1]"
   ]
  },
  {
   "attachments": {},
   "cell_type": "markdown",
   "metadata": {},
   "source": [
    "### Simple download alternative (directly using the eikon API library)"
   ]
  },
  {
   "cell_type": "code",
   "execution_count": null,
   "metadata": {},
   "outputs": [],
   "source": [
    "import json\n",
    "with open(r'Z:\\Interés Departamental\\Model Portfolio\\Hugo\\pruebas eikon ruben/stoxx600_constituents_list.json','r') as file:\n",
    "    constituents_list = json.load(file)"
   ]
  },
  {
   "cell_type": "code",
   "execution_count": null,
   "metadata": {},
   "outputs": [],
   "source": [
    "len(constituents_list)"
   ]
  },
  {
   "cell_type": "code",
   "execution_count": null,
   "metadata": {},
   "outputs": [],
   "source": [
    "whole_df,err = ek.get_data(constituents_list,['TR.TRESGScore','TR.TRESGScore.date'],parameters)\n",
    "whole_df"
   ]
  },
  {
   "cell_type": "code",
   "execution_count": null,
   "metadata": {},
   "outputs": [],
   "source": [
    "whole_clean_df = whole_df.replace(['','NaN',pd.NA]).dropna().drop_duplicates()\n",
    "whole_pivoted_df = whole_clean_df.pivot(columns='Instrument',index='Date',values='ESG Score')"
   ]
  },
  {
   "cell_type": "code",
   "execution_count": null,
   "metadata": {},
   "outputs": [],
   "source": [
    "#easy download\n",
    "tmp = whole_pivoted_df.reset_index()\n",
    "tmp['year'] = tmp['Date'].apply(lambda x:x[:4])\n",
    "tmp.groupby('year').max().drop(columns='Date').fillna(method='ffill',limit=1).notna().sum(axis=1).plot()"
   ]
  },
  {
   "cell_type": "code",
   "execution_count": null,
   "metadata": {},
   "outputs": [],
   "source": []
  }
 ],
 "metadata": {
  "kernelspec": {
   "display_name": "Python 3",
   "language": "python",
   "name": "python3"
  },
  "language_info": {
   "codemirror_mode": {
    "name": "ipython",
    "version": 3
   },
   "file_extension": ".py",
   "mimetype": "text/x-python",
   "name": "python",
   "nbconvert_exporter": "python",
   "pygments_lexer": "ipython3",
   "version": "3.10.9"
  },
  "orig_nbformat": 4
 },
 "nbformat": 4,
 "nbformat_minor": 2
}
